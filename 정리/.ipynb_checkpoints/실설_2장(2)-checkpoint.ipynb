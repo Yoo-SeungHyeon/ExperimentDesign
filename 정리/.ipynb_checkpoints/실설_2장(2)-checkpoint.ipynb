{
 "cells": [
  {
   "cell_type": "markdown",
   "id": "d509b597-53e2-40b5-bc5d-72111a847f10",
   "metadata": {},
   "source": [
    "# 실험설계_2장_일원배치분산분석_(2)"
   ]
  },
  {
   "cell_type": "markdown",
   "id": "9eb241bf-b48b-4ff1-932d-f5f03a543753",
   "metadata": {},
   "source": [
    "## [5] 다중비교"
   ]
  },
  {
   "cell_type": "markdown",
   "id": "cdc5399b-cf77-499a-8d3b-e8a36660633e",
   "metadata": {},
   "source": [
    "### 1. 다중비교 검증 (multiple comparisons test)"
   ]
  },
  {
   "cell_type": "markdown",
   "id": "d67e61fc-628b-405a-a436-0b9a3e78b2e7",
   "metadata": {},
   "source": [
    "분산분석법에서는 오로지 처리 평균들 간에 차이가 있는지 없는지 만을 검증한다. 분산분석을 하여 처리들 가에 평균, 즉, 처리 효과의 차이가 있다는 사실이 밝혀지면 그 다음 분석에서는 어느 처리의 평균값이 다른 처리들과 달라서 그리 되었는지 밝혀야한다. 이와 같은 추가 분석을 다중비교 검증이라한다. 다중비교 검증은 고정효과 요인들에 대해서만 적합하다. 랜덤효과 요인들에 대한 다중 비교는 전혀 무의미하다."
   ]
  },
  {
   "cell_type": "markdown",
   "id": "513c5958-556d-40ae-8d30-5a592eb2b293",
   "metadata": {},
   "source": [
    "#### 1) 일원배치 분산분석"
   ]
  },
  {
   "cell_type": "markdown",
   "id": "4f0739ef-a6f5-487b-ad26-c94e8d237536",
   "metadata": {},
   "source": [
    "$$ H_0 : \\mu_1 = \\mu_2 = \\mu_3 $$\n",
    "$$\\Rightarrow \\text{세 개의 평균이 동시에 같은지를 검정하는 것이다.} $$"
   ]
  },
  {
   "cell_type": "code",
   "execution_count": null,
   "id": "50ef321d-943f-4805-83cd-e4d53b5a03ac",
   "metadata": {},
   "outputs": [],
   "source": []
  },
  {
   "cell_type": "markdown",
   "id": "92d1a659-676b-45c2-a34b-12582b04c3d6",
   "metadata": {},
   "source": [
    "일원배치 분산분석 / 일변량 분산분석"
   ]
  },
  {
   "cell_type": "code",
   "execution_count": 1,
   "id": "ed15cb28-ccb9-4ebb-89f7-db67120e870b",
   "metadata": {},
   "outputs": [
    {
     "data": {
      "text/plain": [
       "6.95825"
      ]
     },
     "execution_count": 1,
     "metadata": {},
     "output_type": "execute_result"
    }
   ],
   "source": [
    "(29.729-1.896)/4"
   ]
  },
  {
   "cell_type": "code",
   "execution_count": 2,
   "id": "ed28e897-83f2-437c-b438-c2dd9f208adf",
   "metadata": {},
   "outputs": [
    {
     "data": {
      "text/plain": [
       "8.854"
      ]
     },
     "execution_count": 2,
     "metadata": {},
     "output_type": "execute_result"
    }
   ],
   "source": [
    "1.896 + 6.958"
   ]
  },
  {
   "cell_type": "code",
   "execution_count": 3,
   "id": "f291d9a5-a2c9-456b-8618-304277c5d6d9",
   "metadata": {},
   "outputs": [
    {
     "data": {
      "text/plain": [
       "78.58594985317372"
      ]
     },
     "execution_count": 3,
     "metadata": {},
     "output_type": "execute_result"
    }
   ],
   "source": [
    "6.958/8.854*100"
   ]
  },
  {
   "cell_type": "code",
   "execution_count": 2,
   "id": "8313bbd4-20d2-4e30-84b4-6d983f1a8b03",
   "metadata": {},
   "outputs": [
    {
     "data": {
      "text/plain": [
       "0.6621621621621622"
      ]
     },
     "execution_count": 2,
     "metadata": {},
     "output_type": "execute_result"
    }
   ],
   "source": [
    "0.049/0.074"
   ]
  },
  {
   "cell_type": "code",
   "execution_count": 5,
   "id": "24d8c6b4-8c09-41c2-bcc2-a54b2fc5e254",
   "metadata": {},
   "outputs": [
    {
     "data": {
      "text/plain": [
       "0.6653919694072659"
      ]
     },
     "execution_count": 5,
     "metadata": {},
     "output_type": "execute_result"
    }
   ],
   "source": [
    "((0.373-0.025)/7)/((0.373-0.025)/7+0.025)"
   ]
  },
  {
   "cell_type": "code",
   "execution_count": 6,
   "id": "f43e5dce-0c12-40f6-ab9e-be1a5a4fbc38",
   "metadata": {},
   "outputs": [],
   "source": [
    "A = [78,89,68,66,70,80,69,77,90,82]\n",
    "B = [56,64,53,71,71,60,59,66,70,71]\n",
    "C = [98,96,95,79,85,88,95,98,90,92]\n",
    "D = [60,79,82,85,67,59,92,85,66,68]\n",
    "E = [70,72,77,76,76,78,80,72,76,74]"
   ]
  },
  {
   "cell_type": "code",
   "execution_count": 7,
   "id": "079ef2b9-ad4e-492b-af15-14a58538c0da",
   "metadata": {},
   "outputs": [],
   "source": [
    "import pandas as pd\n",
    "import numpy as np"
   ]
  },
  {
   "cell_type": "code",
   "execution_count": 10,
   "id": "affb5455-a996-4efc-903a-c0849e30cbcb",
   "metadata": {},
   "outputs": [
    {
     "data": {
      "text/html": [
       "<div>\n",
       "<style scoped>\n",
       "    .dataframe tbody tr th:only-of-type {\n",
       "        vertical-align: middle;\n",
       "    }\n",
       "\n",
       "    .dataframe tbody tr th {\n",
       "        vertical-align: top;\n",
       "    }\n",
       "\n",
       "    .dataframe thead th {\n",
       "        text-align: right;\n",
       "    }\n",
       "</style>\n",
       "<table border=\"1\" class=\"dataframe\">\n",
       "  <thead>\n",
       "    <tr style=\"text-align: right;\">\n",
       "      <th></th>\n",
       "      <th>복사기1</th>\n",
       "      <th>복사기2</th>\n",
       "      <th>복사기3</th>\n",
       "      <th>복사기4</th>\n",
       "      <th>복사기5</th>\n",
       "    </tr>\n",
       "  </thead>\n",
       "  <tbody>\n",
       "    <tr>\n",
       "      <th>0</th>\n",
       "      <td>78</td>\n",
       "      <td>56</td>\n",
       "      <td>98</td>\n",
       "      <td>60</td>\n",
       "      <td>70</td>\n",
       "    </tr>\n",
       "    <tr>\n",
       "      <th>1</th>\n",
       "      <td>89</td>\n",
       "      <td>64</td>\n",
       "      <td>96</td>\n",
       "      <td>79</td>\n",
       "      <td>72</td>\n",
       "    </tr>\n",
       "    <tr>\n",
       "      <th>2</th>\n",
       "      <td>68</td>\n",
       "      <td>53</td>\n",
       "      <td>95</td>\n",
       "      <td>82</td>\n",
       "      <td>77</td>\n",
       "    </tr>\n",
       "    <tr>\n",
       "      <th>3</th>\n",
       "      <td>66</td>\n",
       "      <td>71</td>\n",
       "      <td>79</td>\n",
       "      <td>85</td>\n",
       "      <td>76</td>\n",
       "    </tr>\n",
       "    <tr>\n",
       "      <th>4</th>\n",
       "      <td>70</td>\n",
       "      <td>71</td>\n",
       "      <td>85</td>\n",
       "      <td>67</td>\n",
       "      <td>76</td>\n",
       "    </tr>\n",
       "    <tr>\n",
       "      <th>5</th>\n",
       "      <td>80</td>\n",
       "      <td>60</td>\n",
       "      <td>88</td>\n",
       "      <td>59</td>\n",
       "      <td>78</td>\n",
       "    </tr>\n",
       "    <tr>\n",
       "      <th>6</th>\n",
       "      <td>69</td>\n",
       "      <td>59</td>\n",
       "      <td>95</td>\n",
       "      <td>92</td>\n",
       "      <td>80</td>\n",
       "    </tr>\n",
       "    <tr>\n",
       "      <th>7</th>\n",
       "      <td>77</td>\n",
       "      <td>66</td>\n",
       "      <td>98</td>\n",
       "      <td>85</td>\n",
       "      <td>72</td>\n",
       "    </tr>\n",
       "    <tr>\n",
       "      <th>8</th>\n",
       "      <td>90</td>\n",
       "      <td>70</td>\n",
       "      <td>90</td>\n",
       "      <td>66</td>\n",
       "      <td>76</td>\n",
       "    </tr>\n",
       "    <tr>\n",
       "      <th>9</th>\n",
       "      <td>82</td>\n",
       "      <td>71</td>\n",
       "      <td>92</td>\n",
       "      <td>68</td>\n",
       "      <td>74</td>\n",
       "    </tr>\n",
       "  </tbody>\n",
       "</table>\n",
       "</div>"
      ],
      "text/plain": [
       "   복사기1  복사기2  복사기3  복사기4  복사기5\n",
       "0    78    56    98    60    70\n",
       "1    89    64    96    79    72\n",
       "2    68    53    95    82    77\n",
       "3    66    71    79    85    76\n",
       "4    70    71    85    67    76\n",
       "5    80    60    88    59    78\n",
       "6    69    59    95    92    80\n",
       "7    77    66    98    85    72\n",
       "8    90    70    90    66    76\n",
       "9    82    71    92    68    74"
      ]
     },
     "execution_count": 10,
     "metadata": {},
     "output_type": "execute_result"
    }
   ],
   "source": [
    "df = pd.DataFrame({ '복사기1' : A,\n",
    "                    '복사기2' : B,\n",
    "                    '복사기3' : C,\n",
    "                    '복사기4' : D,\n",
    "                    '복사기5' : E})\n",
    "df"
   ]
  },
  {
   "cell_type": "code",
   "execution_count": 11,
   "id": "c6b943ac-850e-43b9-b08f-aa708e303eaa",
   "metadata": {},
   "outputs": [
    {
     "data": {
      "text/html": [
       "<div>\n",
       "<style scoped>\n",
       "    .dataframe tbody tr th:only-of-type {\n",
       "        vertical-align: middle;\n",
       "    }\n",
       "\n",
       "    .dataframe tbody tr th {\n",
       "        vertical-align: top;\n",
       "    }\n",
       "\n",
       "    .dataframe thead th {\n",
       "        text-align: right;\n",
       "    }\n",
       "</style>\n",
       "<table border=\"1\" class=\"dataframe\">\n",
       "  <thead>\n",
       "    <tr style=\"text-align: right;\">\n",
       "      <th></th>\n",
       "      <th>복사기1</th>\n",
       "      <th>복사기2</th>\n",
       "      <th>복사기3</th>\n",
       "      <th>복사기4</th>\n",
       "      <th>복사기5</th>\n",
       "    </tr>\n",
       "  </thead>\n",
       "  <tbody>\n",
       "    <tr>\n",
       "      <th>count</th>\n",
       "      <td>10.000000</td>\n",
       "      <td>10.000000</td>\n",
       "      <td>10.000000</td>\n",
       "      <td>10.00000</td>\n",
       "      <td>10.000000</td>\n",
       "    </tr>\n",
       "    <tr>\n",
       "      <th>mean</th>\n",
       "      <td>76.900000</td>\n",
       "      <td>64.100000</td>\n",
       "      <td>91.600000</td>\n",
       "      <td>74.30000</td>\n",
       "      <td>75.100000</td>\n",
       "    </tr>\n",
       "    <tr>\n",
       "      <th>std</th>\n",
       "      <td>8.582281</td>\n",
       "      <td>6.773314</td>\n",
       "      <td>6.168018</td>\n",
       "      <td>11.66238</td>\n",
       "      <td>3.071373</td>\n",
       "    </tr>\n",
       "    <tr>\n",
       "      <th>min</th>\n",
       "      <td>66.000000</td>\n",
       "      <td>53.000000</td>\n",
       "      <td>79.000000</td>\n",
       "      <td>59.00000</td>\n",
       "      <td>70.000000</td>\n",
       "    </tr>\n",
       "    <tr>\n",
       "      <th>25%</th>\n",
       "      <td>69.250000</td>\n",
       "      <td>59.250000</td>\n",
       "      <td>88.500000</td>\n",
       "      <td>66.25000</td>\n",
       "      <td>72.500000</td>\n",
       "    </tr>\n",
       "    <tr>\n",
       "      <th>50%</th>\n",
       "      <td>77.500000</td>\n",
       "      <td>65.000000</td>\n",
       "      <td>93.500000</td>\n",
       "      <td>73.50000</td>\n",
       "      <td>76.000000</td>\n",
       "    </tr>\n",
       "    <tr>\n",
       "      <th>75%</th>\n",
       "      <td>81.500000</td>\n",
       "      <td>70.750000</td>\n",
       "      <td>95.750000</td>\n",
       "      <td>84.25000</td>\n",
       "      <td>76.750000</td>\n",
       "    </tr>\n",
       "    <tr>\n",
       "      <th>max</th>\n",
       "      <td>90.000000</td>\n",
       "      <td>71.000000</td>\n",
       "      <td>98.000000</td>\n",
       "      <td>92.00000</td>\n",
       "      <td>80.000000</td>\n",
       "    </tr>\n",
       "  </tbody>\n",
       "</table>\n",
       "</div>"
      ],
      "text/plain": [
       "            복사기1       복사기2       복사기3      복사기4       복사기5\n",
       "count  10.000000  10.000000  10.000000  10.00000  10.000000\n",
       "mean   76.900000  64.100000  91.600000  74.30000  75.100000\n",
       "std     8.582281   6.773314   6.168018  11.66238   3.071373\n",
       "min    66.000000  53.000000  79.000000  59.00000  70.000000\n",
       "25%    69.250000  59.250000  88.500000  66.25000  72.500000\n",
       "50%    77.500000  65.000000  93.500000  73.50000  76.000000\n",
       "75%    81.500000  70.750000  95.750000  84.25000  76.750000\n",
       "max    90.000000  71.000000  98.000000  92.00000  80.000000"
      ]
     },
     "execution_count": 11,
     "metadata": {},
     "output_type": "execute_result"
    }
   ],
   "source": [
    "df.describe()"
   ]
  },
  {
   "cell_type": "code",
   "execution_count": 20,
   "id": "8f0b0b6e-9c75-4734-bc44-e3e57449f7a4",
   "metadata": {},
   "outputs": [
    {
     "data": {
      "text/plain": [
       "0.4385565448737244"
      ]
     },
     "execution_count": 20,
     "metadata": {},
     "output_type": "execute_result"
    }
   ],
   "source": [
    "(72.2664)/((815.18-92.516)/10+92.516)"
   ]
  },
  {
   "cell_type": "code",
   "execution_count": 21,
   "id": "66258ba6-7cfe-4f1e-a55f-ed2b221ed6b6",
   "metadata": {},
   "outputs": [
    {
     "data": {
      "text/plain": [
       "11.711"
      ]
     },
     "execution_count": 21,
     "metadata": {},
     "output_type": "execute_result"
    }
   ],
   "source": [
    "(36.933-1.8)/3"
   ]
  },
  {
   "cell_type": "code",
   "execution_count": 22,
   "id": "8b7c15a7-a378-48a1-846d-cce1fff8e02d",
   "metadata": {},
   "outputs": [
    {
     "data": {
      "text/plain": [
       "0.8667752201909554"
      ]
     },
     "execution_count": 22,
     "metadata": {},
     "output_type": "execute_result"
    }
   ],
   "source": [
    "11.711/(11.711+1.8)"
   ]
  },
  {
   "cell_type": "markdown",
   "id": "b4a61ed9-607b-4e7d-a0fb-b5b72e8fefcd",
   "metadata": {},
   "source": [
    "---"
   ]
  },
  {
   "cell_type": "markdown",
   "id": "8533acd8-38f3-4ce2-8658-8078c3a8a3b2",
   "metadata": {},
   "source": [
    "## 10/31 "
   ]
  },
  {
   "cell_type": "markdown",
   "id": "680a1eb1-9e56-4fe3-8fe9-e5aa7ae4317d",
   "metadata": {},
   "source": [
    "### 2-12번 문제"
   ]
  },
  {
   "cell_type": "code",
   "execution_count": 1,
   "id": "7391f907-971d-42d0-87f8-fa5ba86b1997",
   "metadata": {},
   "outputs": [
    {
     "data": {
      "text/plain": [
       "244.1300000000001"
      ]
     },
     "execution_count": 1,
     "metadata": {},
     "output_type": "execute_result"
    }
   ],
   "source": [
    "2437.572-2193.442"
   ]
  },
  {
   "cell_type": "code",
   "execution_count": 7,
   "id": "36ef66b7-58a1-472f-8c07-c6651c4dcb36",
   "metadata": {},
   "outputs": [
    {
     "data": {
      "text/plain": [
       "548.3605"
      ]
     },
     "execution_count": 7,
     "metadata": {},
     "output_type": "execute_result"
    }
   ],
   "source": [
    "2193.442/4"
   ]
  },
  {
   "cell_type": "code",
   "execution_count": 8,
   "id": "467a4ce6-ed1a-4ad4-8350-3e19c7bd681c",
   "metadata": {},
   "outputs": [
    {
     "data": {
      "text/plain": [
       "9.7652"
      ]
     },
     "execution_count": 8,
     "metadata": {},
     "output_type": "execute_result"
    }
   ],
   "source": [
    "244.13/25"
   ]
  },
  {
   "cell_type": "code",
   "execution_count": 9,
   "id": "5a5f3908-f099-4e42-80a7-7eb966504f20",
   "metadata": {},
   "outputs": [
    {
     "data": {
      "text/plain": [
       "56.1545590464097"
      ]
     },
     "execution_count": 9,
     "metadata": {},
     "output_type": "execute_result"
    }
   ],
   "source": [
    "548.3605/9.7652"
   ]
  },
  {
   "cell_type": "code",
   "execution_count": 10,
   "id": "28d21458-f252-405b-acd3-a84cd3bb9ec2",
   "metadata": {},
   "outputs": [],
   "source": [
    "Y_1 = 32.1\n",
    "Y_2 = 40.2\n",
    "Y_3 = 44.1\n",
    "Y_4 = 41.1\n",
    "Y_5 = 58.3"
   ]
  },
  {
   "cell_type": "code",
   "execution_count": 11,
   "id": "11db65af-bc11-4d40-83bc-7930f00d727f",
   "metadata": {},
   "outputs": [
    {
     "data": {
      "text/plain": [
       "58.3"
      ]
     },
     "execution_count": 11,
     "metadata": {},
     "output_type": "execute_result"
    }
   ],
   "source": [
    "Y_1\n",
    "Y_2\n",
    "Y_4\n",
    "Y_3\n",
    "Y_5"
   ]
  },
  {
   "cell_type": "markdown",
   "id": "e0c92df8-dd70-4c4a-a804-fda30248749c",
   "metadata": {},
   "source": [
    "### Tukey의 검정 -------------------------------------------------"
   ]
  },
  {
   "cell_type": "markdown",
   "id": "df334bb3-7ada-4ea4-903c-3f9f459cff80",
   "metadata": {},
   "source": [
    "$$  H_0 : \\mu_1 = \\mu_5  $$"
   ]
  },
  {
   "cell_type": "markdown",
   "id": "fc212a74-e592-4e52-8442-6bcec190e0b5",
   "metadata": {},
   "source": [
    "검정통계량\n",
    "$$ q = \\frac {|\\bar{Y_1} - \\bar{Y}_2|} {\\sqrt{s^2/r}}$$"
   ]
  },
  {
   "cell_type": "code",
   "execution_count": 41,
   "id": "ffe0ef8b-1b03-4363-becd-c2111f0b0381",
   "metadata": {},
   "outputs": [
    {
     "data": {
      "text/plain": [
       "20.53192336764935"
      ]
     },
     "execution_count": 41,
     "metadata": {},
     "output_type": "execute_result"
    }
   ],
   "source": [
    "import math\n",
    "q15 = (58.3-32.1)/math.sqrt(9.77/6)\n",
    "q15"
   ]
  },
  {
   "cell_type": "markdown",
   "id": "05161a5a-fc12-4765-b215-3f3fce587a62",
   "metadata": {},
   "source": [
    "q분포의 (24,4) = 4.166"
   ]
  },
  {
   "cell_type": "code",
   "execution_count": 30,
   "id": "31abdbc4-dee9-4a70-afbc-20b8e49ff25d",
   "metadata": {},
   "outputs": [],
   "source": [
    "q13 = (44.1-32.1)/math.sqrt(9.77/6)\n",
    "q25 = (58.3-40.2)/math.sqrt(9.77/6)"
   ]
  },
  {
   "cell_type": "code",
   "execution_count": 31,
   "id": "8b49720e-31e3-4489-9d09-dff2535a538a",
   "metadata": {},
   "outputs": [
    {
     "data": {
      "text/plain": [
       "9.4039343668623"
      ]
     },
     "metadata": {},
     "output_type": "display_data"
    },
    {
     "data": {
      "text/plain": [
       "14.184267670017299"
      ]
     },
     "metadata": {},
     "output_type": "display_data"
    }
   ],
   "source": [
    "display(q13,q25)"
   ]
  },
  {
   "cell_type": "code",
   "execution_count": 26,
   "id": "92efdbb5-d3c3-4023-979b-77c9fca3e909",
   "metadata": {},
   "outputs": [],
   "source": [
    "q14 = (41.1-32.1)/math.sqrt(9.77/6)\n",
    "q23 = (44.1-40.2)/math.sqrt(9.77/6)\n",
    "q45 = (58.3-41.1)/math.sqrt(9.77/6)"
   ]
  },
  {
   "cell_type": "code",
   "execution_count": 27,
   "id": "7f4a3cc0-c526-4e40-a1f2-08775b329ea1",
   "metadata": {},
   "outputs": [
    {
     "data": {
      "text/plain": [
       "7.052950775146725"
      ]
     },
     "metadata": {},
     "output_type": "display_data"
    },
    {
     "data": {
      "text/plain": [
       "3.0562786692302466"
      ]
     },
     "metadata": {},
     "output_type": "display_data"
    },
    {
     "data": {
      "text/plain": [
       "13.478972592502627"
      ]
     },
     "metadata": {},
     "output_type": "display_data"
    }
   ],
   "source": [
    "display(q14,q23,q45)"
   ]
  },
  {
   "cell_type": "code",
   "execution_count": 28,
   "id": "44d185d3-b047-4617-ae44-78c3990d65be",
   "metadata": {},
   "outputs": [],
   "source": [
    "q12 = (40.2-32.1)/math.sqrt(9.77/6)\n",
    "q35 = (58.3-44.1)/math.sqrt(9.77/6)"
   ]
  },
  {
   "cell_type": "code",
   "execution_count": 29,
   "id": "a4699a7f-c14e-4346-97bd-63d5eea01129",
   "metadata": {},
   "outputs": [
    {
     "data": {
      "text/plain": [
       "6.347655697632054"
      ]
     },
     "metadata": {},
     "output_type": "display_data"
    },
    {
     "data": {
      "text/plain": [
       "11.127989000787052"
      ]
     },
     "metadata": {},
     "output_type": "display_data"
    }
   ],
   "source": [
    "display(q12,q35)"
   ]
  },
  {
   "cell_type": "markdown",
   "id": "9a18038f-f529-496e-a4bc-56566a306f9d",
   "metadata": {},
   "source": [
    "### Dunnett -----------------------------------------------------"
   ]
  },
  {
   "cell_type": "code",
   "execution_count": 37,
   "id": "1e16221f-c534-473e-814e-ffa3be1ed276",
   "metadata": {},
   "outputs": [
    {
     "name": "stdout",
     "output_type": "stream",
     "text": [
      "32.1 40.2 41.1 44.1 58.3\n"
     ]
    }
   ],
   "source": [
    "print(Y_1, Y_2, Y_4, Y_3, Y_5)"
   ]
  },
  {
   "cell_type": "code",
   "execution_count": 38,
   "id": "aed75a9f-95cb-446e-9092-02f06c341f5b",
   "metadata": {},
   "outputs": [],
   "source": [
    "q_05_24_5 = 4.166\n",
    "q_05_24_4 = 3.901\n",
    "q_05_24_3 = 3.532\n",
    "q_05_24_2 = 2.919"
   ]
  },
  {
   "cell_type": "code",
   "execution_count": 43,
   "id": "b198cb12-dd55-46ba-98a4-38c3fb142f65",
   "metadata": {},
   "outputs": [],
   "source": [
    "def reject_test(R,target):\n",
    "    if R>target: print('H0 not reject')\n",
    "    else : print('H0 reject')"
   ]
  },
  {
   "cell_type": "code",
   "execution_count": 44,
   "id": "076672cf-6f4a-4ca9-aa3d-170496a7cfd5",
   "metadata": {},
   "outputs": [
    {
     "name": "stdout",
     "output_type": "stream",
     "text": [
      "H0 reject\n"
     ]
    }
   ],
   "source": [
    "reject_test(q_05_24_5,q15)"
   ]
  },
  {
   "cell_type": "markdown",
   "id": "70c08a55-3b50-4a90-8dc5-e9024e61909b",
   "metadata": {},
   "source": [
    "### 2-20"
   ]
  },
  {
   "cell_type": "code",
   "execution_count": 46,
   "id": "edf68646-f258-473f-a35b-8cf951708c03",
   "metadata": {},
   "outputs": [
    {
     "name": "stdout",
     "output_type": "stream",
     "text": [
      "96.47200000000001\n"
     ]
    }
   ],
   "source": [
    "SSe = 135.78-39.308\n",
    "print(SSe)"
   ]
  },
  {
   "cell_type": "code",
   "execution_count": 51,
   "id": "f39d6924-9193-4513-9054-78ecf9993757",
   "metadata": {},
   "outputs": [],
   "source": [
    "MSR = 39.308/3"
   ]
  },
  {
   "cell_type": "code",
   "execution_count": 52,
   "id": "61a40cf7-a817-4f12-b1a5-8e6fe8b18520",
   "metadata": {},
   "outputs": [],
   "source": [
    "MSE = SSe/(31-3)"
   ]
  },
  {
   "cell_type": "code",
   "execution_count": 54,
   "id": "085284b0-d241-4f59-a98a-8fc70dc96c6f",
   "metadata": {},
   "outputs": [
    {
     "data": {
      "text/plain": [
       "3.8029134532990567"
      ]
     },
     "execution_count": 54,
     "metadata": {},
     "output_type": "execute_result"
    }
   ],
   "source": [
    "F = MSR/MSE\n",
    "F"
   ]
  },
  {
   "cell_type": "markdown",
   "id": "672e59b3-b498-4455-9480-cc05066fcf8d",
   "metadata": {},
   "source": [
    "### 2-17"
   ]
  },
  {
   "cell_type": "code",
   "execution_count": 57,
   "id": "93ff78ed-0239-4153-8b2a-2a43061f85da",
   "metadata": {},
   "outputs": [
    {
     "name": "stdout",
     "output_type": "stream",
     "text": [
      "32.1 40.2 41.1 44.1 58.3\n"
     ]
    }
   ],
   "source": [
    "print(32.1,40.2,41.1,44.1,58.3)"
   ]
  },
  {
   "cell_type": "code",
   "execution_count": 55,
   "id": "3a123a73-930a-4a61-a093-033ae40ee12d",
   "metadata": {},
   "outputs": [],
   "source": [
    "R = 4.18"
   ]
  },
  {
   "cell_type": "code",
   "execution_count": 56,
   "id": "2bb51deb-d7ea-4fe4-9e9a-839267cb51cb",
   "metadata": {},
   "outputs": [],
   "source": [
    "def tukey(a,b,c,d):\n",
    "    if a>=b:\n",
    "        A = a\n",
    "        B = b\n",
    "    else :\n",
    "        A = b\n",
    "        B = a\n",
    "    return (A-B)/math.sqrt(c/d)"
   ]
  },
  {
   "cell_type": "code",
   "execution_count": 59,
   "id": "e738bc75-cec5-45fb-8a19-3cc9a1e85614",
   "metadata": {},
   "outputs": [
    {
     "data": {
      "text/plain": [
       "7.757850054081813"
      ]
     },
     "metadata": {},
     "output_type": "display_data"
    },
    {
     "data": {
      "text/plain": [
       "9.420246494242202"
      ]
     },
     "metadata": {},
     "output_type": "display_data"
    },
    {
     "data": {
      "text/plain": [
       "9.918965426290319"
      ]
     },
     "metadata": {},
     "output_type": "display_data"
    },
    {
     "data": {
      "text/plain": [
       "14.407435814723367"
      ]
     },
     "metadata": {},
     "output_type": "display_data"
    }
   ],
   "source": [
    "display(tukey(58.1,44.1,2*9.77,6),\n",
    "tukey(58.1,41.1,2*9.77,6),\n",
    "tukey(58.1,40.2,2*9.77,6),\n",
    "tukey(58.1,32.1,2*9.77,6))"
   ]
  },
  {
   "cell_type": "code",
   "execution_count": 61,
   "id": "f335b40e-108d-43b6-ad87-1d21334626c3",
   "metadata": {},
   "outputs": [
    {
     "name": "stdout",
     "output_type": "stream",
     "text": [
      "2.61 2.51 2.35 2.06\n"
     ]
    }
   ],
   "source": [
    "print(2.61, 2.51, 2.35, 2.06)"
   ]
  },
  {
   "cell_type": "code",
   "execution_count": null,
   "id": "c0dcf9e9-f6a6-4784-94bd-1e76cf3dc3ac",
   "metadata": {},
   "outputs": [],
   "source": []
  }
 ],
 "metadata": {
  "kernelspec": {
   "display_name": "Python 3 (ipykernel)",
   "language": "python",
   "name": "python3"
  },
  "language_info": {
   "codemirror_mode": {
    "name": "ipython",
    "version": 3
   },
   "file_extension": ".py",
   "mimetype": "text/x-python",
   "name": "python",
   "nbconvert_exporter": "python",
   "pygments_lexer": "ipython3",
   "version": "3.11.5"
  }
 },
 "nbformat": 4,
 "nbformat_minor": 5
}
