{
 "cells": [
  {
   "cell_type": "markdown",
   "id": "f70d38ab-a15a-4caa-b9da-b2b906820d11",
   "metadata": {},
   "source": [
    "# 4장 반복이 있는 이원배치법"
   ]
  },
  {
   "cell_type": "markdown",
   "id": "1dc43283-fe48-4196-8199-4b41247f6913",
   "metadata": {},
   "source": [
    "# 이번 파트가 메인아라고 할 수 있다."
   ]
  },
  {
   "cell_type": "markdown",
   "id": "90faf353-3974-4649-b337-97639e3791cb",
   "metadata": {},
   "source": [
    "## 예제4-1"
   ]
  },
  {
   "cell_type": "code",
   "execution_count": 4,
   "id": "5e2f982e-7866-4dd6-82f1-9e7be05d408f",
   "metadata": {},
   "outputs": [],
   "source": [
    "l = 4\n",
    "m = 3\n",
    "r = 3 #(강의자료에는 n으로 나와있지만 r이 맞다고 하심.)"
   ]
  },
  {
   "cell_type": "code",
   "execution_count": 6,
   "id": "a04d2ffc-87e2-400d-a418-c5d2341f7093",
   "metadata": {},
   "outputs": [],
   "source": [
    "CT = 1230**2 / 36"
   ]
  },
  {
   "cell_type": "code",
   "execution_count": 14,
   "id": "8d3ee396-92f5-4ad2-bccf-1c80af6ec262",
   "metadata": {},
   "outputs": [],
   "source": [
    "SS_T = 477"
   ]
  },
  {
   "cell_type": "code",
   "execution_count": 8,
   "id": "0953eaa2-654c-45a5-b147-40412c850b08",
   "metadata": {},
   "outputs": [
    {
     "name": "stdout",
     "output_type": "stream",
     "text": [
      "41.44444444444525\n"
     ]
    }
   ],
   "source": [
    "SS_A = (301**2 + 308**2 + 323**2 + 298**2)/9 - CT\n",
    "print(SS_A)"
   ]
  },
  {
   "cell_type": "code",
   "execution_count": 10,
   "id": "2d28f4a1-ec70-4c4a-bd94-9d346e50be26",
   "metadata": {},
   "outputs": [
    {
     "data": {
      "text/plain": [
       "129.16666666666424"
      ]
     },
     "execution_count": 10,
     "metadata": {},
     "output_type": "execute_result"
    }
   ],
   "source": [
    "SS_B = (405**2 + 440**2 + 385**2)/12 - CT\n",
    "SS_B"
   ]
  },
  {
   "cell_type": "code",
   "execution_count": 12,
   "id": "4acc4341-c43b-4ad8-8cfb-4b8ef941f84e",
   "metadata": {},
   "outputs": [
    {
     "data": {
      "text/plain": [
       "242.33333333333576"
      ]
     },
     "execution_count": 12,
     "metadata": {},
     "output_type": "execute_result"
    }
   ],
   "source": [
    "SS_AB = (101**2 + 106**2 + 94**2 + 98**2 + 118**2 + 92**2 + 104**2 + 110**2 + 109**2 + 102**2 + 106**2 + 90**2)/3 - CT\n",
    "SS_AB"
   ]
  },
  {
   "cell_type": "code",
   "execution_count": 13,
   "id": "15f9c29d-8faf-4be2-a405-a471bf79605f",
   "metadata": {},
   "outputs": [
    {
     "data": {
      "text/plain": [
       "71.72222222222626"
      ]
     },
     "execution_count": 13,
     "metadata": {},
     "output_type": "execute_result"
    }
   ],
   "source": [
    "SS_AXB = SS_AB - SS_A - SS_B\n",
    "SS_AXB"
   ]
  },
  {
   "cell_type": "code",
   "execution_count": 15,
   "id": "85f525d1-a7c1-4de1-ba65-54da5de83a06",
   "metadata": {},
   "outputs": [],
   "source": [
    "SS_E = SS_T - SS_A - SS_B -SS_AXB"
   ]
  },
  {
   "cell_type": "code",
   "execution_count": 16,
   "id": "7d6eca87-e488-447c-81ed-1c483000af49",
   "metadata": {},
   "outputs": [],
   "source": [
    "MS_A = SS_A/(l-1)\n",
    "MS_B = SS_B/(m-1)\n",
    "MS_AXB = SS_AXB/((l-1)*(m-1))\n",
    "MS_E = SS_E/(l*m*(r-1))"
   ]
  },
  {
   "cell_type": "code",
   "execution_count": 19,
   "id": "2e11bdba-45ad-4bd1-8263-f1bba3cfa593",
   "metadata": {},
   "outputs": [
    {
     "data": {
      "text/plain": [
       "13.814814814815085"
      ]
     },
     "metadata": {},
     "output_type": "display_data"
    },
    {
     "data": {
      "text/plain": [
       "64.58333333333212"
      ]
     },
     "metadata": {},
     "output_type": "display_data"
    },
    {
     "data": {
      "text/plain": [
       "11.953703703704377"
      ]
     },
     "metadata": {},
     "output_type": "display_data"
    },
    {
     "data": {
      "text/plain": [
       "9.777777777777677"
      ]
     },
     "metadata": {},
     "output_type": "display_data"
    }
   ],
   "source": [
    "display(MS_A,MS_B,MS_AXB,MS_E)"
   ]
  },
  {
   "cell_type": "code",
   "execution_count": 20,
   "id": "c1c716c8-d8c0-401f-9fbe-752f2b8bbd58",
   "metadata": {},
   "outputs": [
    {
     "data": {
      "text/plain": [
       "1.41287878787883"
      ]
     },
     "metadata": {},
     "output_type": "display_data"
    },
    {
     "data": {
      "text/plain": [
       "6.60511363636358"
      ]
     },
     "metadata": {},
     "output_type": "display_data"
    },
    {
     "data": {
      "text/plain": [
       "1.2225378787879602"
      ]
     },
     "metadata": {},
     "output_type": "display_data"
    }
   ],
   "source": [
    "F_AE = MS_A/MS_E\n",
    "F_BE = MS_B/MS_E\n",
    "F_AXBE = MS_AXB/MS_E\n",
    "display(F_AE,F_BE,F_AXBE)"
   ]
  },
  {
   "cell_type": "code",
   "execution_count": 24,
   "id": "57ae7b49-ffc9-4e5d-a711-b528eae84f49",
   "metadata": {},
   "outputs": [],
   "source": [
    "F_3_24_05 = 3.01\n",
    "F_2_24_05 = 3.40\n",
    "F_6_24_05 = 2.51"
   ]
  },
  {
   "cell_type": "code",
   "execution_count": 25,
   "id": "8351301c-8bd0-4726-acee-cddfcb5fc68e",
   "metadata": {},
   "outputs": [],
   "source": [
    "def H0Reject(F0,F):\n",
    "    if F0 >= F:\n",
    "        print('H0 Reject')\n",
    "    else :\n",
    "        print('H0 Not Reject')"
   ]
  },
  {
   "cell_type": "code",
   "execution_count": 26,
   "id": "9ee8372d-0241-4f67-a537-522e073e3728",
   "metadata": {},
   "outputs": [
    {
     "name": "stdout",
     "output_type": "stream",
     "text": [
      "H0 Not Reject\n",
      "H0 Reject\n",
      "H0 Not Reject\n"
     ]
    }
   ],
   "source": [
    "H0Reject(F_AE,F_3_24_05)\n",
    "H0Reject(F_BE,F_2_24_05)\n",
    "H0Reject(F_AXBE,F_6_24_05)"
   ]
  },
  {
   "cell_type": "markdown",
   "id": "880764c5-284d-4222-9718-e671c7a74149",
   "metadata": {},
   "source": [
    "### F_AXB가 not reject 이면 교호 작용이 없는 것이다."
   ]
  },
  {
   "cell_type": "markdown",
   "id": "8f7b1a1d-3b36-4fe9-9149-f80635be2f94",
   "metadata": {},
   "source": [
    "### p.101에서 세번째 그래프가 중요\n",
    "### p.93 매우 중요 -> 시험 나옴"
   ]
  },
  {
   "cell_type": "markdown",
   "id": "2e38442a-c09e-49f6-879f-7ea429be4571",
   "metadata": {},
   "source": [
    "## 예제 4-2"
   ]
  },
  {
   "cell_type": "code",
   "execution_count": 28,
   "id": "db28af81-7fe5-4e0e-a1d1-a38e4c78c920",
   "metadata": {},
   "outputs": [],
   "source": [
    "A1 = [[305,302],[335,337],[336,364],[372,374],[376,373],[348,350]]\n",
    "A2 = [[322,325],[350,348],[326,324],[330,330],[327,330],[310,308]]\n",
    "A3 = [[320,322],[342,344],[338,336],[348,348],[350,350],[330,328]]"
   ]
  },
  {
   "cell_type": "code",
   "execution_count": 49,
   "id": "dac91647-678d-4414-b7a9-9029b92be6fe",
   "metadata": {},
   "outputs": [],
   "source": [
    "import pandas as pd\n",
    "import numpy as np\n",
    "ex4_2 = pd.DataFrame({'A1' : A1, 'A2' : A2, 'A3' : A3})"
   ]
  },
  {
   "cell_type": "code",
   "execution_count": 50,
   "id": "dc0d941f-40de-42ef-8868-e4efabaaabd6",
   "metadata": {},
   "outputs": [
    {
     "data": {
      "text/html": [
       "<div>\n",
       "<style scoped>\n",
       "    .dataframe tbody tr th:only-of-type {\n",
       "        vertical-align: middle;\n",
       "    }\n",
       "\n",
       "    .dataframe tbody tr th {\n",
       "        vertical-align: top;\n",
       "    }\n",
       "\n",
       "    .dataframe thead th {\n",
       "        text-align: right;\n",
       "    }\n",
       "</style>\n",
       "<table border=\"1\" class=\"dataframe\">\n",
       "  <thead>\n",
       "    <tr style=\"text-align: right;\">\n",
       "      <th></th>\n",
       "      <th>A1</th>\n",
       "      <th>A2</th>\n",
       "      <th>A3</th>\n",
       "    </tr>\n",
       "  </thead>\n",
       "  <tbody>\n",
       "    <tr>\n",
       "      <th>0</th>\n",
       "      <td>[305, 302]</td>\n",
       "      <td>[322, 325]</td>\n",
       "      <td>[320, 322]</td>\n",
       "    </tr>\n",
       "    <tr>\n",
       "      <th>1</th>\n",
       "      <td>[335, 337]</td>\n",
       "      <td>[350, 348]</td>\n",
       "      <td>[342, 344]</td>\n",
       "    </tr>\n",
       "    <tr>\n",
       "      <th>2</th>\n",
       "      <td>[336, 364]</td>\n",
       "      <td>[326, 324]</td>\n",
       "      <td>[338, 336]</td>\n",
       "    </tr>\n",
       "    <tr>\n",
       "      <th>3</th>\n",
       "      <td>[372, 374]</td>\n",
       "      <td>[330, 330]</td>\n",
       "      <td>[348, 348]</td>\n",
       "    </tr>\n",
       "    <tr>\n",
       "      <th>4</th>\n",
       "      <td>[376, 373]</td>\n",
       "      <td>[327, 330]</td>\n",
       "      <td>[350, 350]</td>\n",
       "    </tr>\n",
       "    <tr>\n",
       "      <th>5</th>\n",
       "      <td>[348, 350]</td>\n",
       "      <td>[310, 308]</td>\n",
       "      <td>[330, 328]</td>\n",
       "    </tr>\n",
       "  </tbody>\n",
       "</table>\n",
       "</div>"
      ],
      "text/plain": [
       "           A1          A2          A3\n",
       "0  [305, 302]  [322, 325]  [320, 322]\n",
       "1  [335, 337]  [350, 348]  [342, 344]\n",
       "2  [336, 364]  [326, 324]  [338, 336]\n",
       "3  [372, 374]  [330, 330]  [348, 348]\n",
       "4  [376, 373]  [327, 330]  [350, 350]\n",
       "5  [348, 350]  [310, 308]  [330, 328]"
      ]
     },
     "execution_count": 50,
     "metadata": {},
     "output_type": "execute_result"
    }
   ],
   "source": [
    "ex4_2"
   ]
  },
  {
   "cell_type": "code",
   "execution_count": 51,
   "id": "ab90521c-add5-4411-95c0-ef7e659143da",
   "metadata": {},
   "outputs": [
    {
     "data": {
      "text/plain": [
       "349.0"
      ]
     },
     "execution_count": 51,
     "metadata": {},
     "output_type": "execute_result"
    }
   ],
   "source": [
    "np.array(ex4_2.iloc[1,1]).mean()"
   ]
  },
  {
   "cell_type": "code",
   "execution_count": 44,
   "id": "bdafb3e5-fab3-453b-aef4-b4aa09941678",
   "metadata": {},
   "outputs": [],
   "source": [
    "import matplotlib.pyplot as plt"
   ]
  },
  {
   "cell_type": "code",
   "execution_count": 48,
   "id": "7faef92b-bf00-451d-bc6c-55d06cefceac",
   "metadata": {},
   "outputs": [
    {
     "data": {
      "image/png": "[encoded data removed]",
      "text/plain": [
       "<Figure size 640x480 with 1 Axes>"
      ]
     },
     "metadata": {},
     "output_type": "display_data"
    }
   ],
   "source": [
    "B = [1,2,3,4,5,6]\n",
    "A_1 = [303.5,336,365,373,374.5,349]\n",
    "A_2 = [323.5,349,325,330,328.5,309]\n",
    "A_3 = [321,343,337,348,350,329]\n",
    "plt.plot(B,A_1,marker = 'o')\n",
    "plt.plot(B,A_2,marker = 'o')\n",
    "plt.plot(B,A_3,marker = 'o')\n",
    "plt.show()"
   ]
  },
  {
   "cell_type": "markdown",
   "id": "5b88821d-7689-4a8a-a9f6-f9ceaa5037bf",
   "metadata": {},
   "source": [
    "### p.98 ~ 100\n",
    "A와 B가 교호작용이 없으므로 AXB를 없앤다."
   ]
  },
  {
   "cell_type": "code",
   "execution_count": 52,
   "id": "7b957404-8295-4dd4-95b0-983e50cf6ef8",
   "metadata": {},
   "outputs": [],
   "source": [
    "P_SS_A = SS_A\n",
    "P_SS_B = SS_B\n",
    "P_SS_E = SS_AXB + SS_E"
   ]
  },
  {
   "cell_type": "code",
   "execution_count": 54,
   "id": "9971fa51-445a-4321-af58-dd4b8d65f89b",
   "metadata": {},
   "outputs": [
    {
     "data": {
      "text/plain": [
       "13.814814814815085"
      ]
     },
     "metadata": {},
     "output_type": "display_data"
    },
    {
     "data": {
      "text/plain": [
       "64.58333333333212"
      ]
     },
     "metadata": {},
     "output_type": "display_data"
    },
    {
     "data": {
      "text/plain": [
       "10.212962962963017"
      ]
     },
     "metadata": {},
     "output_type": "display_data"
    }
   ],
   "source": [
    "P_MS_A = P_SS_A/3\n",
    "P_MS_B = P_SS_B/2\n",
    "P_MS_E = P_SS_E/30\n",
    "display(P_MS_A,P_MS_B,P_MS_E)"
   ]
  },
  {
   "cell_type": "code",
   "execution_count": 56,
   "id": "a6a9f959-c17a-4906-8b1d-3be5e205ff5a",
   "metadata": {},
   "outputs": [
    {
     "data": {
      "text/plain": [
       "1.3526745240254046"
      ]
     },
     "metadata": {},
     "output_type": "display_data"
    },
    {
     "data": {
      "text/plain": [
       "6.3236627379871555"
      ]
     },
     "metadata": {},
     "output_type": "display_data"
    }
   ],
   "source": [
    "P_F_AE = P_MS_A/P_MS_E\n",
    "P_F_BE = P_MS_B/P_MS_E\n",
    "display(P_F_AE,P_F_BE)"
   ]
  },
  {
   "cell_type": "code",
   "execution_count": 57,
   "id": "e96a6ebb-6148-4369-b20f-de70b79e4c6b",
   "metadata": {},
   "outputs": [
    {
     "name": "stdout",
     "output_type": "stream",
     "text": [
      "H0 Not Reject\n",
      "H0 Reject\n"
     ]
    }
   ],
   "source": [
    "H0Reject(P_F_AE,F_3_24_05)\n",
    "H0Reject(P_F_BE,F_2_24_05)"
   ]
  },
  {
   "cell_type": "markdown",
   "id": "d614d167-887a-4dfa-af4a-5599fec3ec94",
   "metadata": {},
   "source": [
    "---"
   ]
  },
  {
   "cell_type": "markdown",
   "id": "d8317e0a-8ca8-4a20-a242-16ebd4d4afb9",
   "metadata": {},
   "source": [
    "1-1. 빈도분석 => 범주형\n",
    "1-2. 기술통계량 => 수치형\n",
    "\n",
    "2. 교차분석 => 범주 X 범주\n",
    "\n",
    "3. 평균비교 => t,F\n",
    "\n",
    "4. 상관분석 -> 회귀분석의 밑그림\n",
    "\n",
    "5. 회귀분석(모델링) target Y를 찾아내는게 목표"
   ]
  },
  {
   "cell_type": "markdown",
   "id": "7374a172-6d9e-47b8-8057-4f705bbe011c",
   "metadata": {},
   "source": [
    "---"
   ]
  },
  {
   "cell_type": "markdown",
   "id": "29998fc0-9edb-4033-8af0-6f24c6ab8af3",
   "metadata": {},
   "source": [
    "0. 데이터 세팅\n",
    "1. WHIHP = 이닝당 안타 + 이닝당 볼넷\n",
    "2. \n",
    "2-1. WHIP x 방어율 => 산점도, 상관분석\n",
    "2-2. WHIP x 승률 => 산점도, 상관분석\n",
    "3. 군집분석 이닝당 안타/이닝당 볼넷 => 4개\n",
    "4. 분산분석 & 분포 -> 10개 [팀명, 시즌, 순위]\n",
    "5. 회귀분석| 방어율 = 이닝당 안타수 & 이닝당 볼넷수\n",
    "6. 타자능력치 = 득점 + 타점 - 홈련 -> 교수님이 하신다고 함"
   ]
  },
  {
   "cell_type": "markdown",
   "id": "7fe2fbb1-da9a-4d90-98db-6e97473644ec",
   "metadata": {},
   "source": [
    "---"
   ]
  },
  {
   "cell_type": "markdown",
   "id": "0f717997-9882-4f35-b219-84d0e697a283",
   "metadata": {},
   "source": [
    "### 자기효능감 (1~14)\n",
    "하위 항목은 3개 -> 주도, 노력, 존속"
   ]
  },
  {
   "cell_type": "markdown",
   "id": "42301082-7c02-467b-bebb-f064252a5487",
   "metadata": {},
   "source": [
    "요인분석으로 14개의 항목을 적당히 나눌 수 있다.\n",
    "요인분석 이후에는 신뢰도분석을 많이 쓴다. alpha를 많이 사용. alpha가 0.6 이상이어야 묶을 수 있다고 이야기 한다.\n",
    "신뢰도분석을 통해 하위 항목을 묶어도 되는지 여부도 확인할 수 있다."
   ]
  },
  {
   "cell_type": "markdown",
   "id": "3305cdf5-eb90-473f-b083-40a2ba9629b4",
   "metadata": {},
   "source": [
    "### 성별, 학년"
   ]
  },
  {
   "cell_type": "markdown",
   "id": "8a40c375-ee82-4d4d-9ead-ff279258a042",
   "metadata": {},
   "source": [
    "1) 빈도분석 => 성별 , 학년 각각 한번씩 진행\n",
    "2) 기술통계량 제시 -> 평균 분산 제시 [4개의 항목(하위 3개 항목 + 전체{자기효능감})에 의해 제시함]\n",
    "3) 평균비교(t,F) -> 성별, 학년을 기준으로 4개의 항목에서 진행 -> 표 2개 나옴\n",
    "4) 상관분석 -> 4개의 항목간의 계수 체크\n",
    "5) 회귀분석 -> Y(자기효능감) = X1(주도) + X2(노력) + X3(존속)\n",
    "6) 기타분석 ..."
   ]
  },
  {
   "cell_type": "markdown",
   "id": "4f2eda2c-ba59-4bc0-8e7d-71255fe31740",
   "metadata": {},
   "source": [
    "2a? 둘 다 범주형이라 2a가 가능하다고 하는데 2a가 뭔지 알아보기"
   ]
  },
  {
   "cell_type": "code",
   "execution_count": null,
   "id": "771debb2-0732-4cfa-9b22-b179073276c1",
   "metadata": {},
   "outputs": [],
   "source": []
  }
 ],
 "metadata": {
  "kernelspec": {
   "display_name": "Python 3 (ipykernel)",
   "language": "python",
   "name": "python3"
  },
  "language_info": {
   "codemirror_mode": {
    "name": "ipython",
    "version": 3
   },
   "file_extension": ".py",
   "mimetype": "text/x-python",
   "name": "python",
   "nbconvert_exporter": "python",
   "pygments_lexer": "ipython3",
   "version": "3.11.5"
  }
 },
 "nbformat": 4,
 "nbformat_minor": 5
}
