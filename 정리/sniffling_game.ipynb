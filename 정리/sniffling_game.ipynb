{
 "cells": [
  {
   "cell_type": "code",
   "execution_count": 5,
   "id": "08d18925-b8d4-4e31-8eee-6f348b167b01",
   "metadata": {},
   "outputs": [
    {
     "name": "stdout",
     "output_type": "stream",
     "text": [
      "시작 칩은 10개 입니다\n"
     ]
    },
    {
     "name": "stdin",
     "output_type": "stream",
     "text": [
      "배팅할 칩의 갯수를 정하시오 :  10\n",
      "홀? or짝? 홀\n"
     ]
    },
    {
     "name": "stdout",
     "output_type": "stream",
     "text": [
      "컴퓨터의 선택은?? :  짝\n",
      "사용자의 선택은?? :  홀\n",
      "틀렸습니다!\n",
      "파산했습니다!\n"
     ]
    }
   ],
   "source": [
    "import random\n",
    "chip = 10\n",
    "print(\"시작 칩은 10개 입니다\")\n",
    "while(1):\n",
    "    batting = int(input(\"배팅할 칩의 갯수를 정하시오 : \"))\n",
    "    \n",
    "    ran = random.randint(0,1)\n",
    "    if( ran == 1) : set = '홀'\n",
    "    else : set = '짝'\n",
    "\n",
    "    get = input(\"홀? or짝?\")\n",
    "    \n",
    "    print(\"컴퓨터의 선택은?? : \", set)\n",
    "    print(\"사용자의 선택은?? : \", get)\n",
    "    if(set == get) :\n",
    "        chip = chip + batting\n",
    "        print(\"맞췄습니다!\")\n",
    "        print(\"chip = \",chip)\n",
    "        stop = input(\"계속 진행하시겠습니까??(네/아니요)\")\n",
    "        if(stop == '아니요') : break\n",
    "    else :\n",
    "        chip = chip - batting\n",
    "        print(\"틀렸습니다!\")\n",
    "        if(chip <= 0) :\n",
    "            print(\"파산했습니다!\")\n",
    "            break\n",
    "        else :\n",
    "            print(\"chip = \", chip)\n",
    "            stop = input(\"계속 진행하시겠습니까??(네/아니요)\")\n",
    "            if(stop == '아니요') : break"
   ]
  },
  {
   "cell_type": "code",
   "execution_count": null,
   "id": "ff4d0ea5-6912-40e1-a491-cd298ea91b7f",
   "metadata": {},
   "outputs": [],
   "source": []
  }
 ],
 "metadata": {
  "kernelspec": {
   "display_name": "Python 3 (ipykernel)",
   "language": "python",
   "name": "python3"
  },
  "language_info": {
   "codemirror_mode": {
    "name": "ipython",
    "version": 3
   },
   "file_extension": ".py",
   "mimetype": "text/x-python",
   "name": "python",
   "nbconvert_exporter": "python",
   "pygments_lexer": "ipython3",
   "version": "3.8.0"
  }
 },
 "nbformat": 4,
 "nbformat_minor": 5
}
