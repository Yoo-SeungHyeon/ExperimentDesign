{
 "cells": [
  {
   "cell_type": "markdown",
   "id": "24283941-0b34-49ae-a77e-be221a10d171",
   "metadata": {},
   "source": [
    "# 제 3장 반복이 없는 이원배치법"
   ]
  },
  {
   "cell_type": "code",
   "execution_count": 1,
   "id": "386b4826-90b3-4e3e-a9a0-4cacc839da13",
   "metadata": {},
   "outputs": [],
   "source": [
    "import pandas as pd"
   ]
  },
  {
   "cell_type": "code",
   "execution_count": 2,
   "id": "2689b0c6-fab1-4c02-80d4-dd396d25915d",
   "metadata": {},
   "outputs": [],
   "source": [
    "import numpy as np"
   ]
  },
  {
   "cell_type": "code",
   "execution_count": 14,
   "id": "3c40f8c9-4dad-41b3-8527-f3e9f9483dde",
   "metadata": {},
   "outputs": [],
   "source": [
    "ex3_1 = pd.DataFrame({'사료1' : [54.2, 50.7, 49.8],\n",
    "                     '사료2' : [46.3, 49.5, 45.7],\n",
    "                     '사료3' : [55.3, 49.4, 51.9],\n",
    "                     '사료4' : [56.1, 53.9, 55.2]})"
   ]
  },
  {
   "cell_type": "code",
   "execution_count": 15,
   "id": "30e0284a-b4a9-4f4f-a0ff-7ed10e87dd91",
   "metadata": {},
   "outputs": [
    {
     "data": {
      "text/html": [
       "<div>\n",
       "<style scoped>\n",
       "    .dataframe tbody tr th:only-of-type {\n",
       "        vertical-align: middle;\n",
       "    }\n",
       "\n",
       "    .dataframe tbody tr th {\n",
       "        vertical-align: top;\n",
       "    }\n",
       "\n",
       "    .dataframe thead th {\n",
       "        text-align: right;\n",
       "    }\n",
       "</style>\n",
       "<table border=\"1\" class=\"dataframe\">\n",
       "  <thead>\n",
       "    <tr style=\"text-align: right;\">\n",
       "      <th></th>\n",
       "      <th>사료1</th>\n",
       "      <th>사료2</th>\n",
       "      <th>사료3</th>\n",
       "      <th>사료4</th>\n",
       "    </tr>\n",
       "  </thead>\n",
       "  <tbody>\n",
       "    <tr>\n",
       "      <th>count</th>\n",
       "      <td>3.000000</td>\n",
       "      <td>3.000000</td>\n",
       "      <td>3.000000</td>\n",
       "      <td>3.000000</td>\n",
       "    </tr>\n",
       "    <tr>\n",
       "      <th>mean</th>\n",
       "      <td>51.566667</td>\n",
       "      <td>47.166667</td>\n",
       "      <td>52.200000</td>\n",
       "      <td>55.066667</td>\n",
       "    </tr>\n",
       "    <tr>\n",
       "      <th>std</th>\n",
       "      <td>2.324507</td>\n",
       "      <td>2.042874</td>\n",
       "      <td>2.961419</td>\n",
       "      <td>1.106044</td>\n",
       "    </tr>\n",
       "    <tr>\n",
       "      <th>min</th>\n",
       "      <td>49.800000</td>\n",
       "      <td>45.700000</td>\n",
       "      <td>49.400000</td>\n",
       "      <td>53.900000</td>\n",
       "    </tr>\n",
       "    <tr>\n",
       "      <th>25%</th>\n",
       "      <td>50.250000</td>\n",
       "      <td>46.000000</td>\n",
       "      <td>50.650000</td>\n",
       "      <td>54.550000</td>\n",
       "    </tr>\n",
       "    <tr>\n",
       "      <th>50%</th>\n",
       "      <td>50.700000</td>\n",
       "      <td>46.300000</td>\n",
       "      <td>51.900000</td>\n",
       "      <td>55.200000</td>\n",
       "    </tr>\n",
       "    <tr>\n",
       "      <th>75%</th>\n",
       "      <td>52.450000</td>\n",
       "      <td>47.900000</td>\n",
       "      <td>53.600000</td>\n",
       "      <td>55.650000</td>\n",
       "    </tr>\n",
       "    <tr>\n",
       "      <th>max</th>\n",
       "      <td>54.200000</td>\n",
       "      <td>49.500000</td>\n",
       "      <td>55.300000</td>\n",
       "      <td>56.100000</td>\n",
       "    </tr>\n",
       "  </tbody>\n",
       "</table>\n",
       "</div>"
      ],
      "text/plain": [
       "             사료1        사료2        사료3        사료4\n",
       "count   3.000000   3.000000   3.000000   3.000000\n",
       "mean   51.566667  47.166667  52.200000  55.066667\n",
       "std     2.324507   2.042874   2.961419   1.106044\n",
       "min    49.800000  45.700000  49.400000  53.900000\n",
       "25%    50.250000  46.000000  50.650000  54.550000\n",
       "50%    50.700000  46.300000  51.900000  55.200000\n",
       "75%    52.450000  47.900000  53.600000  55.650000\n",
       "max    54.200000  49.500000  55.300000  56.100000"
      ]
     },
     "execution_count": 15,
     "metadata": {},
     "output_type": "execute_result"
    }
   ],
   "source": [
    "ex3_1.describe()"
   ]
  },
  {
   "cell_type": "code",
   "execution_count": 35,
   "id": "13aa5462-9e16-4d0b-aef4-417463476e74",
   "metadata": {},
   "outputs": [],
   "source": [
    "A1_b = ex3_1.iloc[:,0].values.mean()\n",
    "A2_b = ex3_1.iloc[:,1].values.mean()\n",
    "A3_b = ex3_1.iloc[:,2].values.mean()\n",
    "A4_b = ex3_1.iloc[:,3].values.mean()"
   ]
  },
  {
   "cell_type": "code",
   "execution_count": 36,
   "id": "f5db0d16-6ab7-4478-b51d-599434272b97",
   "metadata": {},
   "outputs": [
    {
     "name": "stdout",
     "output_type": "stream",
     "text": [
      "51.56666666666666 47.166666666666664 52.199999999999996 55.06666666666666\n"
     ]
    }
   ],
   "source": [
    "print(A1_b,A2_b,A3_b,A4_b)"
   ]
  },
  {
   "cell_type": "code",
   "execution_count": 31,
   "id": "2780e788-adf6-42f3-8a1f-3d926bf31517",
   "metadata": {},
   "outputs": [],
   "source": [
    "B1_b = ex3_1.loc[0,:].values.mean()\n",
    "B2_b = ex3_1.loc[1,:].values.mean()\n",
    "B3_b = ex3_1.loc[2,:].values.mean()"
   ]
  },
  {
   "cell_type": "code",
   "execution_count": 38,
   "id": "410b5292-bd55-425d-9208-516907511565",
   "metadata": {},
   "outputs": [],
   "source": [
    "Amean = [A1_b,A2_b,A3_b,A4_b]\n",
    "Bmean = [B1_b,B2_b,B3_b]"
   ]
  },
  {
   "cell_type": "code",
   "execution_count": 17,
   "id": "9347ac0b-9757-424d-95af-95ae50fda2b8",
   "metadata": {},
   "outputs": [
    {
     "name": "stdout",
     "output_type": "stream",
     "text": [
      "52.975 50.875 50.650000000000006\n"
     ]
    }
   ],
   "source": [
    "print(B1_b,B2_b,B3_b)"
   ]
  },
  {
   "cell_type": "code",
   "execution_count": 37,
   "id": "5bf41ae4-2250-4c4b-8add-d80c82c08469",
   "metadata": {},
   "outputs": [
    {
     "data": {
      "text/plain": [
       "51.5"
      ]
     },
     "execution_count": 37,
     "metadata": {},
     "output_type": "execute_result"
    }
   ],
   "source": [
    "Allmean = np.mean([52.975,50.875,50.65])\n",
    "Allmean"
   ]
  },
  {
   "cell_type": "code",
   "execution_count": 25,
   "id": "e46ff11b-d6f7-4c52-bff9-9049fdfa5bbe",
   "metadata": {},
   "outputs": [
    {
     "data": {
      "text/plain": [
       "56.1"
      ]
     },
     "execution_count": 25,
     "metadata": {},
     "output_type": "execute_result"
    }
   ],
   "source": [
    "ex3_1.iloc[0,3]\n"
   ]
  },
  {
   "cell_type": "code",
   "execution_count": 26,
   "id": "a45ee41a-6042-4669-a566-6ad5e706c816",
   "metadata": {},
   "outputs": [
    {
     "name": "stdout",
     "output_type": "stream",
     "text": [
      "[[2.700000000000003, -5.200000000000003, 3.799999999999997, 4.600000000000001], [-0.7999999999999972, -2.0, -2.1000000000000014, 2.3999999999999986], [-1.7000000000000028, -5.799999999999997, 0.3999999999999986, 3.700000000000003]]\n"
     ]
    }
   ],
   "source": [
    "b=[]\n",
    "for i in range(3):\n",
    "    a=[]\n",
    "    for j in range(4):\n",
    "        a.append(ex3_1.iloc[i,j]-Amean)\n",
    "    b.append(a)\n",
    "print(b)"
   ]
  },
  {
   "cell_type": "code",
   "execution_count": 27,
   "id": "35cd7120-ecb7-408f-91ea-8f534e4390fe",
   "metadata": {},
   "outputs": [],
   "source": [
    "ex3_1_a = pd.DataFrame(b)"
   ]
  },
  {
   "cell_type": "code",
   "execution_count": 28,
   "id": "cce1aa41-5385-4990-a059-ad988a4062a3",
   "metadata": {},
   "outputs": [
    {
     "data": {
      "text/html": [
       "<div>\n",
       "<style scoped>\n",
       "    .dataframe tbody tr th:only-of-type {\n",
       "        vertical-align: middle;\n",
       "    }\n",
       "\n",
       "    .dataframe tbody tr th {\n",
       "        vertical-align: top;\n",
       "    }\n",
       "\n",
       "    .dataframe thead th {\n",
       "        text-align: right;\n",
       "    }\n",
       "</style>\n",
       "<table border=\"1\" class=\"dataframe\">\n",
       "  <thead>\n",
       "    <tr style=\"text-align: right;\">\n",
       "      <th></th>\n",
       "      <th>0</th>\n",
       "      <th>1</th>\n",
       "      <th>2</th>\n",
       "      <th>3</th>\n",
       "    </tr>\n",
       "  </thead>\n",
       "  <tbody>\n",
       "    <tr>\n",
       "      <th>0</th>\n",
       "      <td>2.7</td>\n",
       "      <td>-5.2</td>\n",
       "      <td>3.8</td>\n",
       "      <td>4.6</td>\n",
       "    </tr>\n",
       "    <tr>\n",
       "      <th>1</th>\n",
       "      <td>-0.8</td>\n",
       "      <td>-2.0</td>\n",
       "      <td>-2.1</td>\n",
       "      <td>2.4</td>\n",
       "    </tr>\n",
       "    <tr>\n",
       "      <th>2</th>\n",
       "      <td>-1.7</td>\n",
       "      <td>-5.8</td>\n",
       "      <td>0.4</td>\n",
       "      <td>3.7</td>\n",
       "    </tr>\n",
       "  </tbody>\n",
       "</table>\n",
       "</div>"
      ],
      "text/plain": [
       "     0    1    2    3\n",
       "0  2.7 -5.2  3.8  4.6\n",
       "1 -0.8 -2.0 -2.1  2.4\n",
       "2 -1.7 -5.8  0.4  3.7"
      ]
     },
     "execution_count": 28,
     "metadata": {},
     "output_type": "execute_result"
    }
   ],
   "source": [
    "ex3_1_a"
   ]
  },
  {
   "cell_type": "code",
   "execution_count": 30,
   "id": "7135beff-4ff8-40e6-8d46-bbf4df7cac5a",
   "metadata": {},
   "outputs": [
    {
     "data": {
      "text/plain": [
       "4.329999999999998"
      ]
     },
     "execution_count": 30,
     "metadata": {},
     "output_type": "execute_result"
    }
   ],
   "source": [
    "51.5-47.17"
   ]
  },
  {
   "cell_type": "code",
   "execution_count": 40,
   "id": "2b877dc5-e22f-427f-9311-4c7cfa35359c",
   "metadata": {},
   "outputs": [
    {
     "name": "stdout",
     "output_type": "stream",
     "text": [
      "[[1.1583333333333385, -2.3416666666666686, 1.625, -0.4416666666666629], [-0.24166666666666003, 2.9583333333333357, -2.174999999999997, -0.5416666666666643], [-0.9166666666666714, -0.6166666666666671, 0.5499999999999972, 0.9833333333333343]]\n"
     ]
    }
   ],
   "source": [
    "b=[]\n",
    "for i in range(3):\n",
    "    a=[]\n",
    "    for j in range(4):\n",
    "        a.append(ex3_1.iloc[i,j]-Amean[j]-Bmean[i]+Allmean)\n",
    "    b.append(a)\n",
    "print(b)"
   ]
  },
  {
   "cell_type": "code",
   "execution_count": 41,
   "id": "9f9b258e-6e1a-4c78-8841-1667bdd810da",
   "metadata": {},
   "outputs": [],
   "source": [
    "ex3_1_b = pd.DataFrame(b)"
   ]
  },
  {
   "cell_type": "code",
   "execution_count": 42,
   "id": "a609621b-bc1f-406e-84f4-342300b114c2",
   "metadata": {},
   "outputs": [
    {
     "data": {
      "text/html": [
       "<div>\n",
       "<style scoped>\n",
       "    .dataframe tbody tr th:only-of-type {\n",
       "        vertical-align: middle;\n",
       "    }\n",
       "\n",
       "    .dataframe tbody tr th {\n",
       "        vertical-align: top;\n",
       "    }\n",
       "\n",
       "    .dataframe thead th {\n",
       "        text-align: right;\n",
       "    }\n",
       "</style>\n",
       "<table border=\"1\" class=\"dataframe\">\n",
       "  <thead>\n",
       "    <tr style=\"text-align: right;\">\n",
       "      <th></th>\n",
       "      <th>0</th>\n",
       "      <th>1</th>\n",
       "      <th>2</th>\n",
       "      <th>3</th>\n",
       "    </tr>\n",
       "  </thead>\n",
       "  <tbody>\n",
       "    <tr>\n",
       "      <th>0</th>\n",
       "      <td>1.158333</td>\n",
       "      <td>-2.341667</td>\n",
       "      <td>1.625</td>\n",
       "      <td>-0.441667</td>\n",
       "    </tr>\n",
       "    <tr>\n",
       "      <th>1</th>\n",
       "      <td>-0.241667</td>\n",
       "      <td>2.958333</td>\n",
       "      <td>-2.175</td>\n",
       "      <td>-0.541667</td>\n",
       "    </tr>\n",
       "    <tr>\n",
       "      <th>2</th>\n",
       "      <td>-0.916667</td>\n",
       "      <td>-0.616667</td>\n",
       "      <td>0.550</td>\n",
       "      <td>0.983333</td>\n",
       "    </tr>\n",
       "  </tbody>\n",
       "</table>\n",
       "</div>"
      ],
      "text/plain": [
       "          0         1      2         3\n",
       "0  1.158333 -2.341667  1.625 -0.441667\n",
       "1 -0.241667  2.958333 -2.175 -0.541667\n",
       "2 -0.916667 -0.616667  0.550  0.983333"
      ]
     },
     "execution_count": 42,
     "metadata": {},
     "output_type": "execute_result"
    }
   ],
   "source": [
    "ex3_1_b"
   ]
  },
  {
   "cell_type": "code",
   "execution_count": 78,
   "id": "529af3c0-231f-46d9-be87-f9a060f24c4e",
   "metadata": {},
   "outputs": [
    {
     "name": "stdout",
     "output_type": "stream",
     "text": [
      "11.260000000000003\n"
     ]
    }
   ],
   "source": [
    "b = 0\n",
    "for i in range(3):\n",
    "    a = 0\n",
    "    for j in range(4):\n",
    "        a = a + ex3_1_a.iloc[i,j]**2\n",
    "    b = b + a\n",
    "print(b/12)"
   ]
  },
  {
   "cell_type": "code",
   "execution_count": 89,
   "id": "fd02015b-4343-4c1a-ae8b-310a5fe71388",
   "metadata": {},
   "outputs": [],
   "source": [
    "ex3_1_A = pd.DataFrame({'A1':[0.07,0.07,0.07],'A2':[-4.33,-4.33,-4.33],'A3':[0.7,0.7,0.7],'A4':[3.57,3.57,3.57]})"
   ]
  },
  {
   "cell_type": "code",
   "execution_count": 90,
   "id": "d9c9ddc4-b7ef-47d2-9271-03fed650694d",
   "metadata": {},
   "outputs": [],
   "source": [
    "ex3_1_B = pd.DataFrame({'A1':[1.475,-0.62,-0.85],'A2':[1.475,-0.62,-0.85],'A3':[1.475,-0.62,-0.85],'A4':[1.475,-0.62,-0.85]})"
   ]
  },
  {
   "cell_type": "code",
   "execution_count": 63,
   "id": "887772ad-7aca-4bab-ba7c-69c0627fec87",
   "metadata": {},
   "outputs": [
    {
     "data": {
      "text/plain": [
       "11.256"
      ]
     },
     "execution_count": 63,
     "metadata": {},
     "output_type": "execute_result"
    }
   ],
   "source": [
    "7.997+1.094+2.165"
   ]
  },
  {
   "cell_type": "code",
   "execution_count": 79,
   "id": "1171f797-2c8a-44cc-a503-f69a9672e6df",
   "metadata": {},
   "outputs": [
    {
     "data": {
      "text/plain": [
       "4"
      ]
     },
     "execution_count": 79,
     "metadata": {},
     "output_type": "execute_result"
    }
   ],
   "source": [
    "len(ex3_1_B.iloc[0,:])"
   ]
  },
  {
   "cell_type": "code",
   "execution_count": 73,
   "id": "f5d22b12-4250-43ec-8acb-39b3df848421",
   "metadata": {},
   "outputs": [
    {
     "data": {
      "text/plain": [
       "3"
      ]
     },
     "execution_count": 73,
     "metadata": {},
     "output_type": "execute_result"
    }
   ],
   "source": [
    "len(ex3_1_B.iloc[:,0])"
   ]
  },
  {
   "cell_type": "code",
   "execution_count": 82,
   "id": "81d35b55-5a4f-4dfc-bb8e-e918694a743b",
   "metadata": {},
   "outputs": [],
   "source": [
    "def SS(X):\n",
    "    b = 0\n",
    "    for i in range(len(X.iloc[:,0])):\n",
    "        a = 0\n",
    "        for j in range(len(X.iloc[0,:])):\n",
    "            a = a + X.iloc[i,j]**2\n",
    "        b = b + a\n",
    "    return print(b/12)  "
   ]
  },
  {
   "cell_type": "code",
   "execution_count": 101,
   "id": "8c8420c6-ab2c-4ba3-a848-8832b792ef5f",
   "metadata": {},
   "outputs": [
    {
     "name": "stdout",
     "output_type": "stream",
     "text": [
      "7.997174999999999\n"
     ]
    }
   ],
   "source": [
    "SS(ex3_1_A)"
   ]
  },
  {
   "cell_type": "code",
   "execution_count": 97,
   "id": "1e67d3ca-50f8-4eee-8fa8-9efcb0c6e197",
   "metadata": {},
   "outputs": [
    {
     "name": "stdout",
     "output_type": "stream",
     "text": [
      "1.094175\n"
     ]
    }
   ],
   "source": [
    "SS(ex3_1_B)"
   ]
  },
  {
   "cell_type": "code",
   "execution_count": 98,
   "id": "bcb635e3-d977-4148-a3ab-56a14fb07089",
   "metadata": {},
   "outputs": [
    {
     "name": "stdout",
     "output_type": "stream",
     "text": [
      "2.1654166666666685\n"
     ]
    }
   ],
   "source": [
    "SS(ex3_1_b)"
   ]
  },
  {
   "cell_type": "code",
   "execution_count": 106,
   "id": "e76bd976-b2ea-4fa9-a2a0-1bff3bf8e117",
   "metadata": {},
   "outputs": [],
   "source": [
    "ssa = 7.997/3"
   ]
  },
  {
   "cell_type": "code",
   "execution_count": 107,
   "id": "18bed252-5875-453b-b234-25531c82b235",
   "metadata": {},
   "outputs": [],
   "source": [
    "ssb = 1.094/2"
   ]
  },
  {
   "cell_type": "code",
   "execution_count": 108,
   "id": "d415307e-b1ee-4703-aaff-e3933210ac21",
   "metadata": {},
   "outputs": [],
   "source": [
    "sse = 2.165/6"
   ]
  },
  {
   "cell_type": "code",
   "execution_count": 109,
   "id": "47b21115-721a-4558-9fb8-db5079f434f4",
   "metadata": {},
   "outputs": [
    {
     "name": "stdout",
     "output_type": "stream",
     "text": [
      "7.387528868360277 1.5159353348729794\n"
     ]
    }
   ],
   "source": [
    "F1 = ssa/sse\n",
    "F2 = ssb/sse\n",
    "print(F1,F2)"
   ]
  },
  {
   "cell_type": "markdown",
   "id": "b594326e-f7bd-4d98-a034-9ff1a02e4db4",
   "metadata": {},
   "source": [
    "$$ F_{(6,3,0.05)}= 4.76 $$"
   ]
  },
  {
   "cell_type": "markdown",
   "id": "e8a4b891-032e-440d-85f6-63ccbad8bd51",
   "metadata": {},
   "source": [
    "$$ F_{(6,2,0.05)}= 5.14 $$"
   ]
  },
  {
   "cell_type": "markdown",
   "id": "6a649e8f-85d0-4923-b120-e245cf61afc3",
   "metadata": {},
   "source": [
    "$$ H_0 : \\text{차이가 없다}, \\space \\space H_1 : \\text{차이가 존재한다} $$"
   ]
  },
  {
   "cell_type": "markdown",
   "id": "48e5ac0c-bd06-4e7f-bc61-0ded16146a0b",
   "metadata": {},
   "source": [
    "$$ \\text{기각역} \\space R > F_{(6,3,0.05)}= 4.76$$"
   ]
  },
  {
   "cell_type": "markdown",
   "id": "e3595841-6cfd-4892-99eb-12eb9cc8c431",
   "metadata": {},
   "source": [
    "$$F_{AE} = 7.3875$$"
   ]
  },
  {
   "cell_type": "markdown",
   "id": "1a3c6107-38a3-46a1-b431-0297ab0da7ab",
   "metadata": {},
   "source": [
    "$$ H_0 \\space Reject $$"
   ]
  },
  {
   "cell_type": "markdown",
   "id": "437d38f3-0dd8-4848-93f1-27abc32c8900",
   "metadata": {},
   "source": [
    "---"
   ]
  },
  {
   "cell_type": "markdown",
   "id": "525798c2-c8ed-4c90-b902-34030b6e5dc9",
   "metadata": {},
   "source": [
    "### 10/07"
   ]
  },
  {
   "cell_type": "markdown",
   "id": "2e9e29b0-87a2-4b67-a2a0-7e9482f0dae2",
   "metadata": {},
   "source": [
    "## 예제 [3-2]\n",
    "어떤 화학공장에서 제품의 수율(yield, %)에 영향을 미칠 것으로 생각되는 반응온도와 원료를 요인으로 취하여 반복이 없는 이원배치의 실험을 하였다."
   ]
  },
  {
   "cell_type": "code",
   "execution_count": 4,
   "id": "9de211e1-831f-4a67-9be9-19ba718f45fc",
   "metadata": {},
   "outputs": [],
   "source": [
    "import numpy as np\n",
    "import pandas as pd\n",
    "import math"
   ]
  },
  {
   "cell_type": "code",
   "execution_count": 8,
   "id": "adbb782d-2a45-47f4-8e31-db306a3a81ca",
   "metadata": {},
   "outputs": [
    {
     "data": {
      "text/html": [
       "<div>\n",
       "<style scoped>\n",
       "    .dataframe tbody tr th:only-of-type {\n",
       "        vertical-align: middle;\n",
       "    }\n",
       "\n",
       "    .dataframe tbody tr th {\n",
       "        vertical-align: top;\n",
       "    }\n",
       "\n",
       "    .dataframe thead th {\n",
       "        text-align: right;\n",
       "    }\n",
       "</style>\n",
       "<table border=\"1\" class=\"dataframe\">\n",
       "  <thead>\n",
       "    <tr style=\"text-align: right;\">\n",
       "      <th></th>\n",
       "      <th>A1</th>\n",
       "      <th>A2</th>\n",
       "      <th>A3</th>\n",
       "      <th>A4</th>\n",
       "    </tr>\n",
       "  </thead>\n",
       "  <tbody>\n",
       "    <tr>\n",
       "      <th>0</th>\n",
       "      <td>97.6</td>\n",
       "      <td>98.6</td>\n",
       "      <td>99.0</td>\n",
       "      <td>98.0</td>\n",
       "    </tr>\n",
       "    <tr>\n",
       "      <th>1</th>\n",
       "      <td>97.3</td>\n",
       "      <td>98.2</td>\n",
       "      <td>98.0</td>\n",
       "      <td>97.7</td>\n",
       "    </tr>\n",
       "    <tr>\n",
       "      <th>2</th>\n",
       "      <td>96.7</td>\n",
       "      <td>96.9</td>\n",
       "      <td>97.9</td>\n",
       "      <td>96.5</td>\n",
       "    </tr>\n",
       "  </tbody>\n",
       "</table>\n",
       "</div>"
      ],
      "text/plain": [
       "     A1    A2    A3    A4\n",
       "0  97.6  98.6  99.0  98.0\n",
       "1  97.3  98.2  98.0  97.7\n",
       "2  96.7  96.9  97.9  96.5"
      ]
     },
     "execution_count": 8,
     "metadata": {},
     "output_type": "execute_result"
    }
   ],
   "source": [
    "df = pd.DataFrame({'A1' : [97.6,97.3,96.7],\n",
    "                   'A2' : [98.6,98.2,96.9],\n",
    "                   'A3' : [99.0,98.0,97.9],\n",
    "                   'A4' : [98.0,97.7,96.5]})\n",
    "df"
   ]
  },
  {
   "cell_type": "code",
   "execution_count": 13,
   "id": "59ca477f-9244-46c5-8bad-5435cf6b67b6",
   "metadata": {},
   "outputs": [
    {
     "data": {
      "text/plain": [
       "114543.48000000003"
      ]
     },
     "execution_count": 13,
     "metadata": {},
     "output_type": "execute_result"
    }
   ],
   "source": [
    "CT = 1172.4**2/(4*3)\n",
    "CT"
   ]
  },
  {
   "cell_type": "code",
   "execution_count": 16,
   "id": "058a3901-2e3b-4e02-aeb8-7b6de42cb25c",
   "metadata": {},
   "outputs": [],
   "source": [
    "def SS(X):\n",
    "    b = 0\n",
    "    for i in range(len(X.iloc[:,0])):\n",
    "        a = 0\n",
    "        for j in range(len(X.iloc[0,:])):\n",
    "            a = a + X.iloc[i,j]**2\n",
    "        b = b + a\n",
    "    return print(b)  "
   ]
  },
  {
   "cell_type": "code",
   "execution_count": 17,
   "id": "feb8edcd-152d-489f-bb1b-38316a145274",
   "metadata": {},
   "outputs": [
    {
     "name": "stdout",
     "output_type": "stream",
     "text": [
      "114549.70000000001\n"
     ]
    }
   ],
   "source": [
    "SS(df)"
   ]
  },
  {
   "cell_type": "code",
   "execution_count": 19,
   "id": "63734ac0-dc72-49c0-9fc7-e56538c6c825",
   "metadata": {},
   "outputs": [
    {
     "data": {
      "text/plain": [
       "23.102499999979045"
      ]
     },
     "execution_count": 19,
     "metadata": {},
     "output_type": "execute_result"
    }
   ],
   "source": [
    "393.3**2/4+391.2**2/4+388.0**2/4 - CT"
   ]
  },
  {
   "cell_type": "code",
   "execution_count": 22,
   "id": "11fd2890-5d0d-4aac-bbf3-17e32030ce03",
   "metadata": {},
   "outputs": [
    {
     "data": {
      "text/plain": [
       "2.2199999999720603"
      ]
     },
     "execution_count": 22,
     "metadata": {},
     "output_type": "execute_result"
    }
   ],
   "source": [
    "(291.6**2+293.7**2+294.9**2+292.2**2)/3 - CT"
   ]
  },
  {
   "cell_type": "code",
   "execution_count": 21,
   "id": "c0493d6c-daf4-4097-b817-95e7d5af6582",
   "metadata": {},
   "outputs": [
    {
     "data": {
      "text/html": [
       "<div>\n",
       "<style scoped>\n",
       "    .dataframe tbody tr th:only-of-type {\n",
       "        vertical-align: middle;\n",
       "    }\n",
       "\n",
       "    .dataframe tbody tr th {\n",
       "        vertical-align: top;\n",
       "    }\n",
       "\n",
       "    .dataframe thead th {\n",
       "        text-align: right;\n",
       "    }\n",
       "</style>\n",
       "<table border=\"1\" class=\"dataframe\">\n",
       "  <thead>\n",
       "    <tr style=\"text-align: right;\">\n",
       "      <th></th>\n",
       "      <th>A1</th>\n",
       "      <th>A2</th>\n",
       "      <th>A3</th>\n",
       "      <th>A4</th>\n",
       "    </tr>\n",
       "  </thead>\n",
       "  <tbody>\n",
       "    <tr>\n",
       "      <th>count</th>\n",
       "      <td>3.000000</td>\n",
       "      <td>3.000000</td>\n",
       "      <td>3.000000</td>\n",
       "      <td>3.000000</td>\n",
       "    </tr>\n",
       "    <tr>\n",
       "      <th>mean</th>\n",
       "      <td>97.200000</td>\n",
       "      <td>97.900000</td>\n",
       "      <td>98.300000</td>\n",
       "      <td>97.400000</td>\n",
       "    </tr>\n",
       "    <tr>\n",
       "      <th>std</th>\n",
       "      <td>0.458258</td>\n",
       "      <td>0.888819</td>\n",
       "      <td>0.608276</td>\n",
       "      <td>0.793725</td>\n",
       "    </tr>\n",
       "    <tr>\n",
       "      <th>min</th>\n",
       "      <td>96.700000</td>\n",
       "      <td>96.900000</td>\n",
       "      <td>97.900000</td>\n",
       "      <td>96.500000</td>\n",
       "    </tr>\n",
       "    <tr>\n",
       "      <th>25%</th>\n",
       "      <td>97.000000</td>\n",
       "      <td>97.550000</td>\n",
       "      <td>97.950000</td>\n",
       "      <td>97.100000</td>\n",
       "    </tr>\n",
       "    <tr>\n",
       "      <th>50%</th>\n",
       "      <td>97.300000</td>\n",
       "      <td>98.200000</td>\n",
       "      <td>98.000000</td>\n",
       "      <td>97.700000</td>\n",
       "    </tr>\n",
       "    <tr>\n",
       "      <th>75%</th>\n",
       "      <td>97.450000</td>\n",
       "      <td>98.400000</td>\n",
       "      <td>98.500000</td>\n",
       "      <td>97.850000</td>\n",
       "    </tr>\n",
       "    <tr>\n",
       "      <th>max</th>\n",
       "      <td>97.600000</td>\n",
       "      <td>98.600000</td>\n",
       "      <td>99.000000</td>\n",
       "      <td>98.000000</td>\n",
       "    </tr>\n",
       "  </tbody>\n",
       "</table>\n",
       "</div>"
      ],
      "text/plain": [
       "              A1         A2         A3         A4\n",
       "count   3.000000   3.000000   3.000000   3.000000\n",
       "mean   97.200000  97.900000  98.300000  97.400000\n",
       "std     0.458258   0.888819   0.608276   0.793725\n",
       "min    96.700000  96.900000  97.900000  96.500000\n",
       "25%    97.000000  97.550000  97.950000  97.100000\n",
       "50%    97.300000  98.200000  98.000000  97.700000\n",
       "75%    97.450000  98.400000  98.500000  97.850000\n",
       "max    97.600000  98.600000  99.000000  98.000000"
      ]
     },
     "execution_count": 21,
     "metadata": {},
     "output_type": "execute_result"
    }
   ],
   "source": [
    "df.describe()"
   ]
  },
  {
   "cell_type": "code",
   "execution_count": 23,
   "id": "97f0c417-06f4-4640-84bf-5e3dcb74193a",
   "metadata": {},
   "outputs": [],
   "source": [
    "Df = df.transpose()"
   ]
  },
  {
   "cell_type": "code",
   "execution_count": 24,
   "id": "cfa1e838-9794-49cf-99e4-fe57539b3839",
   "metadata": {},
   "outputs": [
    {
     "data": {
      "text/html": [
       "<div>\n",
       "<style scoped>\n",
       "    .dataframe tbody tr th:only-of-type {\n",
       "        vertical-align: middle;\n",
       "    }\n",
       "\n",
       "    .dataframe tbody tr th {\n",
       "        vertical-align: top;\n",
       "    }\n",
       "\n",
       "    .dataframe thead th {\n",
       "        text-align: right;\n",
       "    }\n",
       "</style>\n",
       "<table border=\"1\" class=\"dataframe\">\n",
       "  <thead>\n",
       "    <tr style=\"text-align: right;\">\n",
       "      <th></th>\n",
       "      <th>0</th>\n",
       "      <th>1</th>\n",
       "      <th>2</th>\n",
       "    </tr>\n",
       "  </thead>\n",
       "  <tbody>\n",
       "    <tr>\n",
       "      <th>A1</th>\n",
       "      <td>97.6</td>\n",
       "      <td>97.3</td>\n",
       "      <td>96.7</td>\n",
       "    </tr>\n",
       "    <tr>\n",
       "      <th>A2</th>\n",
       "      <td>98.6</td>\n",
       "      <td>98.2</td>\n",
       "      <td>96.9</td>\n",
       "    </tr>\n",
       "    <tr>\n",
       "      <th>A3</th>\n",
       "      <td>99.0</td>\n",
       "      <td>98.0</td>\n",
       "      <td>97.9</td>\n",
       "    </tr>\n",
       "    <tr>\n",
       "      <th>A4</th>\n",
       "      <td>98.0</td>\n",
       "      <td>97.7</td>\n",
       "      <td>96.5</td>\n",
       "    </tr>\n",
       "  </tbody>\n",
       "</table>\n",
       "</div>"
      ],
      "text/plain": [
       "       0     1     2\n",
       "A1  97.6  97.3  96.7\n",
       "A2  98.6  98.2  96.9\n",
       "A3  99.0  98.0  97.9\n",
       "A4  98.0  97.7  96.5"
      ]
     },
     "execution_count": 24,
     "metadata": {},
     "output_type": "execute_result"
    }
   ],
   "source": [
    "Df"
   ]
  },
  {
   "cell_type": "code",
   "execution_count": 25,
   "id": "4ab46957-5d69-4c59-bbbd-adad2203685b",
   "metadata": {},
   "outputs": [
    {
     "data": {
      "text/html": [
       "<div>\n",
       "<style scoped>\n",
       "    .dataframe tbody tr th:only-of-type {\n",
       "        vertical-align: middle;\n",
       "    }\n",
       "\n",
       "    .dataframe tbody tr th {\n",
       "        vertical-align: top;\n",
       "    }\n",
       "\n",
       "    .dataframe thead th {\n",
       "        text-align: right;\n",
       "    }\n",
       "</style>\n",
       "<table border=\"1\" class=\"dataframe\">\n",
       "  <thead>\n",
       "    <tr style=\"text-align: right;\">\n",
       "      <th></th>\n",
       "      <th>0</th>\n",
       "      <th>1</th>\n",
       "      <th>2</th>\n",
       "    </tr>\n",
       "  </thead>\n",
       "  <tbody>\n",
       "    <tr>\n",
       "      <th>count</th>\n",
       "      <td>4.000000</td>\n",
       "      <td>4.000000</td>\n",
       "      <td>4.000000</td>\n",
       "    </tr>\n",
       "    <tr>\n",
       "      <th>mean</th>\n",
       "      <td>98.300000</td>\n",
       "      <td>97.800000</td>\n",
       "      <td>97.000000</td>\n",
       "    </tr>\n",
       "    <tr>\n",
       "      <th>std</th>\n",
       "      <td>0.621825</td>\n",
       "      <td>0.391578</td>\n",
       "      <td>0.621825</td>\n",
       "    </tr>\n",
       "    <tr>\n",
       "      <th>min</th>\n",
       "      <td>97.600000</td>\n",
       "      <td>97.300000</td>\n",
       "      <td>96.500000</td>\n",
       "    </tr>\n",
       "    <tr>\n",
       "      <th>25%</th>\n",
       "      <td>97.900000</td>\n",
       "      <td>97.600000</td>\n",
       "      <td>96.650000</td>\n",
       "    </tr>\n",
       "    <tr>\n",
       "      <th>50%</th>\n",
       "      <td>98.300000</td>\n",
       "      <td>97.850000</td>\n",
       "      <td>96.800000</td>\n",
       "    </tr>\n",
       "    <tr>\n",
       "      <th>75%</th>\n",
       "      <td>98.700000</td>\n",
       "      <td>98.050000</td>\n",
       "      <td>97.150000</td>\n",
       "    </tr>\n",
       "    <tr>\n",
       "      <th>max</th>\n",
       "      <td>99.000000</td>\n",
       "      <td>98.200000</td>\n",
       "      <td>97.900000</td>\n",
       "    </tr>\n",
       "  </tbody>\n",
       "</table>\n",
       "</div>"
      ],
      "text/plain": [
       "               0          1          2\n",
       "count   4.000000   4.000000   4.000000\n",
       "mean   98.300000  97.800000  97.000000\n",
       "std     0.621825   0.391578   0.621825\n",
       "min    97.600000  97.300000  96.500000\n",
       "25%    97.900000  97.600000  96.650000\n",
       "50%    98.300000  97.850000  96.800000\n",
       "75%    98.700000  98.050000  97.150000\n",
       "max    99.000000  98.200000  97.900000"
      ]
     },
     "execution_count": 25,
     "metadata": {},
     "output_type": "execute_result"
    }
   ],
   "source": [
    "Df.describe()"
   ]
  },
  {
   "cell_type": "code",
   "execution_count": 26,
   "id": "1f80ae7c-b205-4d96-86e7-dc0698fb0eae",
   "metadata": {},
   "outputs": [
    {
     "data": {
      "text/plain": [
       "393.2"
      ]
     },
     "execution_count": 26,
     "metadata": {},
     "output_type": "execute_result"
    }
   ],
   "source": [
    "98.3*4"
   ]
  },
  {
   "cell_type": "code",
   "execution_count": 28,
   "id": "8f425073-31ed-4aa3-a9ea-27011b2cccdc",
   "metadata": {},
   "outputs": [
    {
     "data": {
      "text/plain": [
       "391.2"
      ]
     },
     "execution_count": 28,
     "metadata": {},
     "output_type": "execute_result"
    }
   ],
   "source": [
    "97.8*4"
   ]
  },
  {
   "cell_type": "code",
   "execution_count": 29,
   "id": "f0d6d26c-f8c7-4554-aa9a-c74c8b419483",
   "metadata": {},
   "outputs": [
    {
     "data": {
      "text/plain": [
       "388"
      ]
     },
     "execution_count": 29,
     "metadata": {},
     "output_type": "execute_result"
    }
   ],
   "source": [
    "97*4"
   ]
  },
  {
   "cell_type": "code",
   "execution_count": 37,
   "id": "bed7595d-64b9-4ccb-9794-668efc6e2e4d",
   "metadata": {},
   "outputs": [
    {
     "name": "stdout",
     "output_type": "stream",
     "text": [
      "3.44 23.1\n"
     ]
    }
   ],
   "source": [
    "print(round((393.2**2+391.2**2+388**2)/4 - CT,2),round((393.3**2+391.2**2+388**2)/4 - CT,2))"
   ]
  },
  {
   "cell_type": "code",
   "execution_count": 38,
   "id": "887b10f9-4926-409d-a067-34ce67daab42",
   "metadata": {},
   "outputs": [
    {
     "data": {
      "text/plain": [
       "0.5599999999999996"
      ]
     },
     "execution_count": 38,
     "metadata": {},
     "output_type": "execute_result"
    }
   ],
   "source": [
    "6.22-2.22-3.44"
   ]
  },
  {
   "cell_type": "code",
   "execution_count": 41,
   "id": "89c34645-55bb-4552-8459-051c91a0fbeb",
   "metadata": {},
   "outputs": [
    {
     "data": {
      "text/plain": [
       "0.09333333333333334"
      ]
     },
     "execution_count": 41,
     "metadata": {},
     "output_type": "execute_result"
    }
   ],
   "source": [
    "0.56/6"
   ]
  },
  {
   "cell_type": "code",
   "execution_count": 46,
   "id": "4b8cc715-c821-4e07-ae12-69f1a7f9deaf",
   "metadata": {},
   "outputs": [
    {
     "data": {
      "text/plain": [
       "7.956989247311828"
      ]
     },
     "execution_count": 46,
     "metadata": {},
     "output_type": "execute_result"
    }
   ],
   "source": [
    "F = 0.74/0.093\n",
    "F"
   ]
  },
  {
   "cell_type": "code",
   "execution_count": 47,
   "id": "49ece7fc-7e2d-4abb-8138-6a63a372e633",
   "metadata": {},
   "outputs": [
    {
     "data": {
      "text/plain": [
       "97.8"
      ]
     },
     "execution_count": 47,
     "metadata": {},
     "output_type": "execute_result"
    }
   ],
   "source": [
    "97.2+98.3-97.7"
   ]
  },
  {
   "cell_type": "code",
   "execution_count": 48,
   "id": "71deca77-dd37-4e19-b81b-86b96f66aedd",
   "metadata": {},
   "outputs": [],
   "source": [
    "star = 2.477*math.sqrt(0.093/2)"
   ]
  },
  {
   "cell_type": "code",
   "execution_count": 55,
   "id": "de1df9d4-adb2-4deb-b5e8-846d041c47be",
   "metadata": {},
   "outputs": [
    {
     "name": "stdout",
     "output_type": "stream",
     "text": [
      "[ 97.27 , 98.33 ]\n"
     ]
    }
   ],
   "source": [
    "print('[',round(97.8-star,2),',',round(97.8+star,2),']')"
   ]
  },
  {
   "cell_type": "code",
   "execution_count": 56,
   "id": "d74d5983-d33b-4d65-929a-351789b03741",
   "metadata": {},
   "outputs": [
    {
     "data": {
      "text/plain": [
       "98.89999999999999"
      ]
     },
     "execution_count": 56,
     "metadata": {},
     "output_type": "execute_result"
    }
   ],
   "source": [
    "98.3+98.3-97.7"
   ]
  },
  {
   "cell_type": "code",
   "execution_count": 57,
   "id": "1b05f5ba-afa3-4e0e-881b-b8cc16f7705b",
   "metadata": {},
   "outputs": [
    {
     "name": "stdout",
     "output_type": "stream",
     "text": [
      "[ 98.37 , 99.43 ]\n"
     ]
    }
   ],
   "source": [
    "print('[',round(98.9-star,2),',',round(98.9+star,2),']')"
   ]
  },
  {
   "cell_type": "code",
   "execution_count": 60,
   "id": "d6a461b6-979a-497a-b306-72dd7ad1e281",
   "metadata": {},
   "outputs": [
    {
     "data": {
      "text/plain": [
       "-1.0999999999999943"
      ]
     },
     "execution_count": 60,
     "metadata": {},
     "output_type": "execute_result"
    }
   ],
   "source": [
    "97.2-98.3"
   ]
  },
  {
   "cell_type": "code",
   "execution_count": 63,
   "id": "a78f6abe-a8aa-4f16-ae81-9e53236d935c",
   "metadata": {},
   "outputs": [],
   "source": [
    "star = 2.477*math.sqrt(2*0.093/3)"
   ]
  },
  {
   "cell_type": "code",
   "execution_count": 64,
   "id": "a001c9b8-662c-490a-9ef7-5713964c894d",
   "metadata": {},
   "outputs": [
    {
     "name": "stdout",
     "output_type": "stream",
     "text": [
      "[ -1.72 , -0.48 ]\n"
     ]
    }
   ],
   "source": [
    "print('[',round(-1.1-star,2),',',round(-1.1+star,2),']')"
   ]
  },
  {
   "cell_type": "code",
   "execution_count": null,
   "id": "9d37bca4-ba78-4a51-8e1c-0556b05be186",
   "metadata": {},
   "outputs": [],
   "source": []
  }
 ],
 "metadata": {
  "kernelspec": {
   "display_name": "Python 3 (ipykernel)",
   "language": "python",
   "name": "python3"
  },
  "language_info": {
   "codemirror_mode": {
    "name": "ipython",
    "version": 3
   },
   "file_extension": ".py",
   "mimetype": "text/x-python",
   "name": "python",
   "nbconvert_exporter": "python",
   "pygments_lexer": "ipython3",
   "version": "3.11.5"
  }
 },
 "nbformat": 4,
 "nbformat_minor": 5
}
