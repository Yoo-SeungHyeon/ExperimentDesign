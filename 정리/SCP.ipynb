{
 "cells": [
  {
   "cell_type": "markdown",
   "id": "dc80f7ca-fcee-4cd1-beed-5684c78bde1a",
   "metadata": {},
   "source": [
    "# SCP_OCR"
   ]
  },
  {
   "cell_type": "code",
   "execution_count": 1,
   "id": "37abf365-b1fd-4b5a-930c-96442f72cd06",
   "metadata": {},
   "outputs": [],
   "source": [
    "import pytesseract\n",
    "from PIL import Image\n",
    "\n",
    "pytesseract.pytesseract.tesseract_cmd = r\"C:\\Program Files\\Tesseract-OCR\\tesseract.exe\""
   ]
  },
  {
   "cell_type": "code",
   "execution_count": 10,
   "id": "43b82046-dbca-4d1d-a6d5-99d93b6f996c",
   "metadata": {},
   "outputs": [
    {
     "name": "stdout",
     "output_type": "stream",
     "text": [
      "Account Check Pass!!\n",
      "Follow Check Pass!!\n"
     ]
    }
   ],
   "source": [
    "account = 'hdw_1007'\n",
    "a = Image.open(r\"C:\\Users\\SeungHyeon\\Desktop\\DGB-IDIC\\FollowCheck2.jpg\")\n",
    "result = pytesseract.image_to_string(a)\n",
    "if result.find(account) != -1 :\n",
    "    print(\"Account Check Pass!!\")\n",
    "    if result.find('daegubank') != -1:\n",
    "        print(\"Follow Check Pass!!\")\n",
    "    else :\n",
    "        print(\"Follow Check Fail!!\")\n",
    "else :\n",
    "    print(\"Account Check Fail!!\")"
   ]
  },
  {
   "cell_type": "code",
   "execution_count": null,
   "id": "cadeb269-89ea-4908-80ac-a63c28d6c926",
   "metadata": {},
   "outputs": [],
   "source": []
  }
 ],
 "metadata": {
  "kernelspec": {
   "display_name": "Python 3 (ipykernel)",
   "language": "python",
   "name": "python3"
  },
  "language_info": {
   "codemirror_mode": {
    "name": "ipython",
    "version": 3
   },
   "file_extension": ".py",
   "mimetype": "text/x-python",
   "name": "python",
   "nbconvert_exporter": "python",
   "pygments_lexer": "ipython3",
   "version": "3.8.0"
  }
 },
 "nbformat": 4,
 "nbformat_minor": 5
}
