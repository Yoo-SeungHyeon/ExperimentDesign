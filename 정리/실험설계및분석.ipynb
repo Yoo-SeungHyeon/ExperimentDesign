{
 "cells": [
  {
   "cell_type": "markdown",
   "id": "2d87c3a0-f454-45db-af94-10681c4f7c4f",
   "metadata": {},
   "source": [
    "X바 - Y바의 99% 신뢰구간을 구하여라"
   ]
  },
  {
   "cell_type": "code",
   "execution_count": 1,
   "id": "1e65a6ce-1168-42de-a8c3-3d07d7e23de6",
   "metadata": {},
   "outputs": [],
   "source": [
    "a = (3.673 - 3.547) + 2.575*(0.7235+0.6089)\n",
    "b = (3.673 - 3.547) - 2.575*(0.7235+0.6089)"
   ]
  },
  {
   "cell_type": "code",
   "execution_count": 7,
   "id": "e95c6a25-cafb-4496-9227-809a4c4de713",
   "metadata": {},
   "outputs": [],
   "source": [
    "aa = round(a,3)\n",
    "bb = round(b,3)"
   ]
  },
  {
   "cell_type": "code",
   "execution_count": 6,
   "id": "b9af4d40-9865-4141-b352-677fe42af6ce",
   "metadata": {},
   "outputs": [
    {
     "data": {
      "text/plain": [
       "3.557"
      ]
     },
     "execution_count": 6,
     "metadata": {},
     "output_type": "execute_result"
    }
   ],
   "source": [
    "aa"
   ]
  },
  {
   "cell_type": "code",
   "execution_count": 8,
   "id": "8645ef85-6ed7-4f37-8629-63e8e9a0ecee",
   "metadata": {},
   "outputs": [
    {
     "name": "stdout",
     "output_type": "stream",
     "text": [
      "[ 3.557 , -3.305 ]\n"
     ]
    }
   ],
   "source": [
    "print(\"[\" , aa , \",\" , bb , \"]\")"
   ]
  },
  {
   "cell_type": "code",
   "execution_count": 21,
   "id": "ba2f38b3-d346-4e27-bf28-d3214abdf221",
   "metadata": {},
   "outputs": [
    {
     "data": {
      "text/plain": [
       "3.0"
      ]
     },
     "execution_count": 21,
     "metadata": {},
     "output_type": "execute_result"
    }
   ],
   "source": [
    "math.sqrt(9)"
   ]
  },
  {
   "cell_type": "code",
   "execution_count": 24,
   "id": "6371e749-2aa5-4092-a717-341ff10b26c4",
   "metadata": {},
   "outputs": [],
   "source": [
    "Z = (3.673 - 3.547)/(math.sqrt((0.7235**2 / 226)+(0.6089**2 / 247)))"
   ]
  },
  {
   "cell_type": "code",
   "execution_count": 25,
   "id": "1d001f71-d962-4aee-8204-17b60db133bb",
   "metadata": {},
   "outputs": [
    {
     "data": {
      "text/plain": [
       "2.039377052705446"
      ]
     },
     "execution_count": 25,
     "metadata": {},
     "output_type": "execute_result"
    }
   ],
   "source": [
    "Z"
   ]
  },
  {
   "cell_type": "code",
   "execution_count": 1,
   "id": "73cb84cd-d3f5-434d-89bb-cd550f1d490d",
   "metadata": {},
   "outputs": [],
   "source": [
    "m = 216.07 - 219.82"
   ]
  },
  {
   "cell_type": "code",
   "execution_count": 2,
   "id": "2aa786a9-cc6e-448f-9c2f-819a46990135",
   "metadata": {},
   "outputs": [
    {
     "data": {
      "text/plain": [
       "-3.75"
      ]
     },
     "execution_count": 2,
     "metadata": {},
     "output_type": "execute_result"
    }
   ],
   "source": [
    "m"
   ]
  },
  {
   "cell_type": "code",
   "execution_count": 19,
   "id": "526274f8-71ae-4390-9aa7-7b19f651ca64",
   "metadata": {},
   "outputs": [],
   "source": [
    "z = math.sqrt(46.49**2/58 + 60.65**2/49)"
   ]
  },
  {
   "cell_type": "code",
   "execution_count": 20,
   "id": "c70d1927-fde9-4aaf-9850-2d0625c039c2",
   "metadata": {},
   "outputs": [
    {
     "data": {
      "text/plain": [
       "10.598772881515478"
      ]
     },
     "execution_count": 20,
     "metadata": {},
     "output_type": "execute_result"
    }
   ],
   "source": [
    "z"
   ]
  },
  {
   "cell_type": "code",
   "execution_count": 10,
   "id": "06b4311f-dae3-456c-99ab-4b825e7f018a",
   "metadata": {},
   "outputs": [
    {
     "name": "stdout",
     "output_type": "stream",
     "text": [
      "[ -24.524 , 17.024 ]\n"
     ]
    }
   ],
   "source": [
    "a = m - z\n",
    "aa = round(a,3)\n",
    "b = m + z\n",
    "bb = round(b,3)\n",
    "print('[',aa,',',bb,']')"
   ]
  },
  {
   "cell_type": "code",
   "execution_count": 11,
   "id": "d58ad2c8-a59c-4853-ae42-2a97bb6020a4",
   "metadata": {},
   "outputs": [
    {
     "data": {
      "text/plain": [
       "10.598772881515478"
      ]
     },
     "execution_count": 11,
     "metadata": {},
     "output_type": "execute_result"
    }
   ],
   "source": [
    "math.sqrt(46.49**2/58 + 60.65**2/49)"
   ]
  },
  {
   "cell_type": "code",
   "execution_count": 12,
   "id": "39ffba08-3461-46cb-881c-fb2d36080549",
   "metadata": {},
   "outputs": [
    {
     "data": {
      "text/plain": [
       "-0.3537735849056604"
      ]
     },
     "execution_count": 12,
     "metadata": {},
     "output_type": "execute_result"
    }
   ],
   "source": [
    "-3.75/10.6"
   ]
  },
  {
   "cell_type": "markdown",
   "id": "47fcfffa-463d-46c4-b37c-5edbb2c5964a",
   "metadata": {},
   "source": [
    "P-value < alpha => h0 reject\n",
    "P-vlaue > alpha => "
   ]
  },
  {
   "cell_type": "code",
   "execution_count": 23,
   "id": "06f7a00a-4aea-4b4c-9145-8aaa23647e14",
   "metadata": {},
   "outputs": [
    {
     "name": "stdout",
     "output_type": "stream",
     "text": [
      "-0.354\n"
     ]
    }
   ],
   "source": [
    "p = m/z\n",
    "pp = round(p,3)\n",
    "print(pp)"
   ]
  },
  {
   "cell_type": "markdown",
   "id": "b747459e-6248-486a-8a1d-6f808425001c",
   "metadata": {},
   "source": [
    "p-value를 구하기 위해선 - P-value는 넓이이다. 확률\n",
    "\n",
    "검정 통계량을 알아야한다."
   ]
  },
  {
   "cell_type": "code",
   "execution_count": 34,
   "id": "a93e41cf-0d56-48fe-b5ed-448330db91df",
   "metadata": {},
   "outputs": [],
   "source": [
    "m1 = 120\n",
    "m2 = 70\n",
    "n1 = 12\n",
    "n2 = 11\n",
    "s1 = 10\n",
    "s2 = 8"
   ]
  },
  {
   "cell_type": "code",
   "execution_count": 35,
   "id": "ca09a292-ad6f-45cf-b985-5f1d92e0b62a",
   "metadata": {
    "scrolled": true
   },
   "outputs": [
    {
     "name": "stdout",
     "output_type": "stream",
     "text": [
      "82.857 ( 82.85714285714286 )\n",
      "9.103 ( 9.102589898327995 )\n"
     ]
    }
   ],
   "source": [
    "Sp_sq2 = (s1**2 * (n1 - 1) + s2**2 * (n2 - 1))/(n1 + n2 - 2)\n",
    "Sp = math.sqrt(Sp_sq2)\n",
    "print(round(Sp_sq2,3),'(',Sp_sq2,')')\n",
    "print(round(Sp,3),'(',Sp,')')"
   ]
  },
  {
   "cell_type": "code",
   "execution_count": 45,
   "id": "083508db-79c7-4adc-bb90-27c1e01d3a3c",
   "metadata": {},
   "outputs": [
    {
     "name": "stdout",
     "output_type": "stream",
     "text": [
      "13.159157202908345\n"
     ]
    }
   ],
   "source": [
    "T =(120-70) / (Sp*math.sqrt(1/n2 + 1/n1))\n",
    "print(T)"
   ]
  },
  {
   "cell_type": "markdown",
   "id": "c29e4408-23b0-4b4f-8d58-ab89426b50b8",
   "metadata": {},
   "source": [
    "P-Value 찾는거 해보기 (넓이는 통해서 표 없이)"
   ]
  },
  {
   "cell_type": "markdown",
   "id": "781988eb-7b13-479c-807f-e4fbf295cae3",
   "metadata": {},
   "source": [
    "---"
   ]
  },
  {
   "cell_type": "markdown",
   "id": "35acc0bb-5a0c-41af-8fa5-b286b12beca6",
   "metadata": {},
   "source": [
    "## 2주차_2차시_09/12"
   ]
  },
  {
   "cell_type": "code",
   "execution_count": 8,
   "id": "e5a9664b-988d-41fe-a5b1-9a9c19c047b2",
   "metadata": {},
   "outputs": [],
   "source": [
    "a = math.exp(1)"
   ]
  },
  {
   "cell_type": "code",
   "execution_count": 9,
   "id": "98b299f0-f8e5-4762-960f-7553a817b25c",
   "metadata": {},
   "outputs": [
    {
     "data": {
      "text/plain": [
       "2.718281828459045"
      ]
     },
     "execution_count": 9,
     "metadata": {},
     "output_type": "execute_result"
    }
   ],
   "source": [
    "a"
   ]
  },
  {
   "cell_type": "code",
   "execution_count": 4,
   "id": "89b811df-eff6-4278-8b80-7313b231f044",
   "metadata": {},
   "outputs": [],
   "source": [
    "# 정규분포 확률밀도함수\n",
    "def normal_distribution(x,s,m):\n",
    "    k = -0.5*(((x-m)/(s))**2)\n",
    "    fx = (1/(s*math.sqrt(2*math.pi)))*math.exp(k)\n",
    "    return fx"
   ]
  },
  {
   "cell_type": "code",
   "execution_count": 5,
   "id": "17a2a423-ccdb-4816-8266-72d8e50b4d60",
   "metadata": {},
   "outputs": [],
   "source": [
    "import numpy as np"
   ]
  },
  {
   "cell_type": "code",
   "execution_count": 7,
   "id": "7cb00dd3-65c4-4a78-bbd8-1bf0d7204995",
   "metadata": {},
   "outputs": [],
   "source": [
    "# x = np.linspace(-20,20)\n",
    "# y = normal_distribution(x,3,0)"
   ]
  },
  {
   "cell_type": "code",
   "execution_count": 35,
   "id": "e376bdd9-e1b2-44bb-9c21-60377465c197",
   "metadata": {},
   "outputs": [
    {
     "name": "stdout",
     "output_type": "stream",
     "text": [
      "sp :  255.611\n",
      "T : 0.118\n"
     ]
    }
   ],
   "source": [
    "# 예제 1.9\n",
    "m1 = 49.39\n",
    "m2 = 37.04\n",
    "s1 = 317.456\n",
    "s2 = 172.904\n",
    "n1 = 12\n",
    "n2 = 12\n",
    "# 가설\n",
    "# h0 : x1 - x2 > 0\n",
    "# h1 : x1 - x2 <= 0\n",
    "\n",
    "c = 2.528\n",
    "df = 22\n",
    "sp2 = (s1*s1*11 + s2*s2*11)/(df)\n",
    "sp = math.sqrt(sp2)\n",
    "print('sp : ',round(sp,3))\n",
    "T = (m1 - m2)/(math.sqrt(1/12 + 1/12)*sp)\n",
    "print('T :',round(T,3))\n",
    "# -> h0 not reject"
   ]
  },
  {
   "cell_type": "code",
   "execution_count": 36,
   "id": "f47183e1-149a-417b-82d7-92dc2845da01",
   "metadata": {},
   "outputs": [],
   "source": [
    "#T검정\n",
    "T = (m1 - m2) / (sp * math.sqrt(1/n1 + 1/n2))\n",
    "sp = math.sqrt(sp2)\n",
    "sp2 = (s1**2*(n1-1) + s2**2*(n2-1))/(df)\n",
    "df = n1+n2-2"
   ]
  },
  {
   "cell_type": "code",
   "execution_count": 40,
   "id": "1c86fc5f-3a8c-4a7e-9b32-6411abaa50f8",
   "metadata": {},
   "outputs": [
    {
     "name": "stdout",
     "output_type": "stream",
     "text": [
      " T :  0.118 \t( 0.11834851509035108 )\n",
      "sp :  255.611 \t( 255.61113546948616 )\n"
     ]
    }
   ],
   "source": [
    "print(' T : ',round(T,3),'\\t(',T,')')\n",
    "print('sp : ',round(sp,3),'\\t(',sp,')')"
   ]
  },
  {
   "cell_type": "code",
   "execution_count": 42,
   "id": "f91de362-6a4b-46fd-a78b-800a9cd9cbf4",
   "metadata": {},
   "outputs": [],
   "source": [
    "class t_verification:\n",
    "    T = (m1 - m2) / (sp * math.sqrt(1/n1 + 1/n2))\n",
    "    sp = math.sqrt(sp2)\n",
    "    sp2 = (s1**2*(n1-1) + s2**2*(n2-1))/(df)\n",
    "    df = n1+n2-2\n",
    "    def T(n1,n2,m1,m2,s1,s2) : return T\n",
    "    def sp(n1,n2,m1,m2,s1,s2): return sp"
   ]
  },
  {
   "cell_type": "code",
   "execution_count": 44,
   "id": "3e5fcb41-5ec9-4604-bf19-5566f49ec682",
   "metadata": {},
   "outputs": [
    {
     "data": {
      "text/plain": [
       "0.11834851509035108"
      ]
     },
     "execution_count": 44,
     "metadata": {},
     "output_type": "execute_result"
    }
   ],
   "source": [
    "t_verification.T(24,24,2.567,1.767,1.3027,1.0349)"
   ]
  },
  {
   "cell_type": "code",
   "execution_count": 45,
   "id": "115074a2-1565-4210-9064-84f530bc0206",
   "metadata": {},
   "outputs": [
    {
     "data": {
      "text/plain": [
       "0.11834851509035108"
      ]
     },
     "execution_count": 45,
     "metadata": {},
     "output_type": "execute_result"
    }
   ],
   "source": [
    "t_verification.T(12,12,49.39,37.04,317.453,172.904)"
   ]
  },
  {
   "cell_type": "markdown",
   "id": "9d672234-f6cc-4b88-a16a-c65681a66e2c",
   "metadata": {},
   "source": [
    "### 예제 1-10 b)번 문제\n",
    "1)    h0 : m1 - m2 = 0 | h1 : m1 - m2 != 0\n",
    "2)    a = 0.01 < p-value = 0.023\n",
    "3)    h0 not reject\n",
    "4) 장흥지와 숭뢰지의 BOD함유량이 같다고 할 수 있다."
   ]
  },
  {
   "cell_type": "markdown",
   "id": "1258dd84-0d3a-483e-8f15-4a1434a51c78",
   "metadata": {},
   "source": [
    "### 예제 1-10 c)번 문제\n",
    "1) h0 : m1 - m2 <= 0 | h1 : m1 - m2 > 0\n",
    "2) a = 0.01 < p-value = 0.0115\n",
    "3) h0 not reject\n",
    "4) 장흥지의 BOD함유량이 숭뢰지 보다 높다고 할 수 없다."
   ]
  },
  {
   "cell_type": "markdown",
   "id": "29529286-bc88-4ece-8460-40de69011ffa",
   "metadata": {},
   "source": [
    "### 예제 1-7\n",
    "estat.me 에서 계산 했음\n",
    "1) h0 : m1 - m2 >= 0 | h1 : m1 - m2 < 0\n",
    "2) a = 0.05 < p-value = 0.0635\n",
    "3) h0 not reject\n",
    "4) 6일의 금요일과 13일의 금요일은 차이가 없다고 할 수 있다."
   ]
  },
  {
   "cell_type": "markdown",
   "id": "04a12e90-d240-4212-9bf4-e589fe9b366e",
   "metadata": {},
   "source": [
    "---"
   ]
  },
  {
   "cell_type": "markdown",
   "id": "cd603100-93f6-4eb5-900b-aba33dee175d",
   "metadata": {},
   "source": [
    "## 3주차_1차시_09/15"
   ]
  },
  {
   "cell_type": "code",
   "execution_count": 9,
   "id": "b9c2f6e1-262b-41f2-8161-136d17654c46",
   "metadata": {},
   "outputs": [],
   "source": [
    "import math\n",
    "import numpy as np"
   ]
  },
  {
   "cell_type": "markdown",
   "id": "0cda3398-6b83-4cba-89f9-a35b68078413",
   "metadata": {},
   "source": [
    "### 예제 1-13"
   ]
  },
  {
   "cell_type": "code",
   "execution_count": 13,
   "id": "cf6163e1-7270-43d9-961f-e8b58faf9997",
   "metadata": {},
   "outputs": [
    {
     "name": "stdout",
     "output_type": "stream",
     "text": [
      "[2, 1, -1, 2, 3, -1]\n"
     ]
    }
   ],
   "source": [
    "x = [12,29,16,37,28,15] \n",
    "y = [10,28,17,35,25,16] ## 이렇게 두개의 표본을\n",
    "d = [] ## 뺌으로 인해 하나의 집단으로 계산가능해진다.\n",
    "for i in range(len(x)):\n",
    "    d.append(x[i] - y[i])\n",
    "print(d)"
   ]
  },
  {
   "cell_type": "code",
   "execution_count": 14,
   "id": "a5e0eb9f-7974-41e0-9995-4a8e731b3109",
   "metadata": {
    "scrolled": true
   },
   "outputs": [
    {
     "name": "stdout",
     "output_type": "stream",
     "text": [
      "1.0\n"
     ]
    }
   ],
   "source": [
    "dm = np.mean(d)\n",
    "print(dm)"
   ]
  },
  {
   "cell_type": "code",
   "execution_count": 15,
   "id": "264d9f4a-e610-4cad-9488-04d05115b8e3",
   "metadata": {},
   "outputs": [
    {
     "name": "stdout",
     "output_type": "stream",
     "text": [
      "T :  1.464\n"
     ]
    }
   ],
   "source": [
    "d_mi = []\n",
    "for i in range(len(d)):\n",
    "    dmi = d[i] - dm\n",
    "    d_mi.append(dmi**2)\n",
    "    d_mi2 = np.sum(d_mi)\n",
    "sd2 = d_mi2/5\n",
    "sd = math.sqrt(sd2)\n",
    "T = (dm - 0) / (sd/math.sqrt(6))\n",
    "print('T : ',round(T,3))"
   ]
  },
  {
   "cell_type": "markdown",
   "id": "5cf8b516-b738-4d34-b4ad-e6fa25db7623",
   "metadata": {},
   "source": [
    "### 예제 1-14"
   ]
  },
  {
   "cell_type": "code",
   "execution_count": 19,
   "id": "092578f0-9223-4bee-8de0-3fa61980d36a",
   "metadata": {},
   "outputs": [],
   "source": [
    "x = [70,80,72,76,76,76,72,78,82,64,74,92,74,68,84]\n",
    "y = [68,72,62,70,58,66,68,52,64,72,74,60,74,72,74]"
   ]
  },
  {
   "cell_type": "code",
   "execution_count": 24,
   "id": "9b588098-db5c-4053-9814-495d193acd5d",
   "metadata": {},
   "outputs": [
    {
     "name": "stdout",
     "output_type": "stream",
     "text": [
      "[2, 8, 10, 6, 18, 10, 4, 26, 18, -8, 0, 32, 0, -4, 10]\n",
      "15\n"
     ]
    }
   ],
   "source": [
    "d = []\n",
    "for i in range(len(x)):\n",
    "    d.append(x[i]-y[i])\n",
    "n = len(d)\n",
    "print(d)\n",
    "print(n)"
   ]
  },
  {
   "cell_type": "code",
   "execution_count": 23,
   "id": "e96065d1-e5ad-4425-a7d1-35f3fa2de8fc",
   "metadata": {},
   "outputs": [
    {
     "name": "stdout",
     "output_type": "stream",
     "text": [
      "8.8\n"
     ]
    }
   ],
   "source": [
    "d_mean = np.mean(d)\n",
    "print(d_mean)"
   ]
  },
  {
   "cell_type": "code",
   "execution_count": 26,
   "id": "05fe2741-131b-4566-bc6f-521c8f9db017",
   "metadata": {},
   "outputs": [],
   "source": [
    "dmi = []\n",
    "for i in range(len(d)):\n",
    "    d_minus = d[i] - d_mean\n",
    "    dmi.append(d_minus**2)\n",
    "\n",
    "sd2 = np.sum(dmi) / (n-1)"
   ]
  },
  {
   "cell_type": "code",
   "execution_count": 27,
   "id": "c997c0fc-a6d2-4b5f-9f09-c9f60b2a51e1",
   "metadata": {},
   "outputs": [
    {
     "name": "stdout",
     "output_type": "stream",
     "text": [
      "T :  3.105\n"
     ]
    }
   ],
   "source": [
    "sd = math.sqrt(sd2)\n",
    "T = (d_mean - 0) / (sd/math.sqrt(n))\n",
    "print('T : ',round(T,3))"
   ]
  },
  {
   "cell_type": "markdown",
   "id": "3dea3ce7-e58e-429d-819c-99fe37e6e88b",
   "metadata": {},
   "source": [
    "## 3주차 2차시"
   ]
  },
  {
   "cell_type": "markdown",
   "id": "0084f156-e8ab-47d6-aad0-7de0984958f4",
   "metadata": {},
   "source": [
    "### 예제 1-23"
   ]
  },
  {
   "cell_type": "markdown",
   "id": "8b5c7faa-0702-442b-8499-95205936bfa3",
   "metadata": {},
   "source": [
    "대응이 더 합리적으로 보인다."
   ]
  },
  {
   "cell_type": "code",
   "execution_count": 4,
   "id": "7dd98591-ac5b-44cd-92b8-7168c255eac9",
   "metadata": {},
   "outputs": [],
   "source": [
    "year_2001 = [155,176,191,178,173,181,174,178,159,172,177,173,177,187,181]\n",
    "year_2007 = [181,198,227,198,186,194,195,219,182,186,210,210,195,221,216]"
   ]
  },
  {
   "cell_type": "code",
   "execution_count": 6,
   "id": "1a998e89-7e31-4012-8d82-62be0eb30336",
   "metadata": {},
   "outputs": [
    {
     "name": "stdout",
     "output_type": "stream",
     "text": [
      "[-26, -22, -36, -20, -13, -13, -21, -41, -23, -14, -33, -37, -18, -34, -35]\n"
     ]
    }
   ],
   "source": [
    "year_temp = []\n",
    "for i in range(len(year_2001)):\n",
    "    year_temp.append(year_2001[i]-year_2007[i])\n",
    "print(year_temp)"
   ]
  },
  {
   "cell_type": "code",
   "execution_count": 11,
   "id": "0fe22255-abef-4af4-810c-a539a39a9abd",
   "metadata": {},
   "outputs": [
    {
     "data": {
      "text/plain": [
       "-25.733333333333334"
      ]
     },
     "execution_count": 11,
     "metadata": {},
     "output_type": "execute_result"
    }
   ],
   "source": [
    "y_mean = np.mean(year_temp)\n",
    "y_mean"
   ]
  },
  {
   "cell_type": "code",
   "execution_count": 12,
   "id": "dbb6fdfa-3e75-4d1e-8e45-9047bfd5433f",
   "metadata": {},
   "outputs": [],
   "source": [
    "y_vus = []\n",
    "for i in range(len(year_temp)):\n",
    "    wnd = year_temp[i] - y_mean\n",
    "    y_vus.append(wnd**2)\n",
    "sd2 = np.sum(y_vus)/14"
   ]
  },
  {
   "cell_type": "code",
   "execution_count": 13,
   "id": "3cc065b7-2f1b-413c-8467-1b0e5243e51a",
   "metadata": {},
   "outputs": [],
   "source": [
    "sd = math.sqrt(sd2)"
   ]
  },
  {
   "cell_type": "code",
   "execution_count": 15,
   "id": "3118dcd6-b30f-4e95-ac3c-a749c38d561f",
   "metadata": {},
   "outputs": [
    {
     "name": "stdout",
     "output_type": "stream",
     "text": [
      "T :  -10.46\n"
     ]
    }
   ],
   "source": [
    "T = (y_mean - 0) / (sd/math.sqrt(15))\n",
    "print('T : ',round(T,3))"
   ]
  },
  {
   "cell_type": "markdown",
   "id": "3386f22b-b748-48e5-8627-ea417b71a1c7",
   "metadata": {},
   "source": [
    "$$\\alpha = 0.01 \\space \\space 이면 \\space \\space R = -2.624 $$"
   ]
  },
  {
   "cell_type": "markdown",
   "id": "7b4844d5-80a3-4778-8fc3-d26eb6003936",
   "metadata": {},
   "source": [
    "$$T = -10.46 \\space \\space 이고 \\space \\space R = -2.624$$ $$이므로$$ $$H_0 를 \\space 기각한다. \\rightarrow 물가지수가\\space 높다고\\space 할\\space 수\\space 있다.$$"
   ]
  },
  {
   "cell_type": "markdown",
   "id": "1af7fcaf-c898-4784-ab29-7a1d8105cb32",
   "metadata": {},
   "source": [
    "---"
   ]
  },
  {
   "cell_type": "markdown",
   "id": "27abcda2-75c7-4daf-8f6c-4e3504ae5e79",
   "metadata": {},
   "source": [
    "회귀분석의 목적 = 모델링 -> 가장 적합한 식을 찾는 것."
   ]
  },
  {
   "cell_type": "markdown",
   "id": "6889c49e-c4de-4f52-a450-cd096524433d",
   "metadata": {},
   "source": [
    "피타고리안 승률\n",
    "$$ P = \\frac{W^n}{W^n+L^n}$$\n",
    "$$n = 2  \\space  를\\space 많이\\space 사용한다.$$"
   ]
  },
  {
   "cell_type": "markdown",
   "id": "ecbdd467-4a4e-45cb-b975-6153c27459fc",
   "metadata": {},
   "source": [
    "$$n=1.83을 많이 넣기도 한다.$$"
   ]
  },
  {
   "cell_type": "code",
   "execution_count": 21,
   "id": "7cc55265-048c-4d6c-80df-8a22b3ca586f",
   "metadata": {},
   "outputs": [],
   "source": [
    "W = 10 #win\n",
    "L = 10 #lose\n",
    "n = 10 #1~3사이 임의의 수"
   ]
  },
  {
   "cell_type": "code",
   "execution_count": 22,
   "id": "f9abbc33-0913-4916-b65b-050b30a0b680",
   "metadata": {},
   "outputs": [],
   "source": [
    "P = (W**n) / (W**n + L**n)"
   ]
  },
  {
   "cell_type": "code",
   "execution_count": 23,
   "id": "d35fbd95-92ce-4896-afec-138d2d921c9c",
   "metadata": {},
   "outputs": [],
   "source": [
    "import pandas as pd"
   ]
  },
  {
   "cell_type": "code",
   "execution_count": 30,
   "id": "d1bd1690-f433-4f9c-aa5b-d7c2534ba3b8",
   "metadata": {
    "scrolled": true
   },
   "outputs": [
    {
     "data": {
      "text/html": [
       "<div>\n",
       "<style scoped>\n",
       "    .dataframe tbody tr th:only-of-type {\n",
       "        vertical-align: middle;\n",
       "    }\n",
       "\n",
       "    .dataframe tbody tr th {\n",
       "        vertical-align: top;\n",
       "    }\n",
       "\n",
       "    .dataframe thead th {\n",
       "        text-align: right;\n",
       "    }\n",
       "</style>\n",
       "<table border=\"1\" class=\"dataframe\">\n",
       "  <thead>\n",
       "    <tr style=\"text-align: right;\">\n",
       "      <th></th>\n",
       "      <th>ID</th>\n",
       "      <th>시즌</th>\n",
       "      <th>순위</th>\n",
       "      <th>팀명</th>\n",
       "      <th>AVG</th>\n",
       "      <th>G</th>\n",
       "      <th>PA</th>\n",
       "      <th>AB</th>\n",
       "      <th>R</th>\n",
       "      <th>H</th>\n",
       "      <th>...</th>\n",
       "      <th>IBB</th>\n",
       "      <th>HBP</th>\n",
       "      <th>SO</th>\n",
       "      <th>GDP</th>\n",
       "      <th>SLG</th>\n",
       "      <th>OBP</th>\n",
       "      <th>OPS</th>\n",
       "      <th>MH</th>\n",
       "      <th>RISP</th>\n",
       "      <th>PH-BA</th>\n",
       "    </tr>\n",
       "  </thead>\n",
       "  <tbody>\n",
       "    <tr>\n",
       "      <th>0</th>\n",
       "      <td>1</td>\n",
       "      <td>2001</td>\n",
       "      <td>1</td>\n",
       "      <td>롯데</td>\n",
       "      <td>0.280</td>\n",
       "      <td>133</td>\n",
       "      <td>5308</td>\n",
       "      <td>4521</td>\n",
       "      <td>718</td>\n",
       "      <td>1265</td>\n",
       "      <td>...</td>\n",
       "      <td>39</td>\n",
       "      <td>60</td>\n",
       "      <td>817</td>\n",
       "      <td>89</td>\n",
       "      <td>0.425</td>\n",
       "      <td>0.365</td>\n",
       "      <td>0.790</td>\n",
       "      <td>133</td>\n",
       "      <td>0.288</td>\n",
       "      <td>0.244</td>\n",
       "    </tr>\n",
       "    <tr>\n",
       "      <th>1</th>\n",
       "      <td>2</td>\n",
       "      <td>2001</td>\n",
       "      <td>2</td>\n",
       "      <td>KIA</td>\n",
       "      <td>0.278</td>\n",
       "      <td>133</td>\n",
       "      <td>5189</td>\n",
       "      <td>4542</td>\n",
       "      <td>683</td>\n",
       "      <td>1263</td>\n",
       "      <td>...</td>\n",
       "      <td>21</td>\n",
       "      <td>56</td>\n",
       "      <td>774</td>\n",
       "      <td>129</td>\n",
       "      <td>0.428</td>\n",
       "      <td>0.353</td>\n",
       "      <td>0.781</td>\n",
       "      <td>133</td>\n",
       "      <td>0.272</td>\n",
       "      <td>0.225</td>\n",
       "    </tr>\n",
       "    <tr>\n",
       "      <th>2</th>\n",
       "      <td>3</td>\n",
       "      <td>2001</td>\n",
       "      <td>3</td>\n",
       "      <td>삼성</td>\n",
       "      <td>0.277</td>\n",
       "      <td>133</td>\n",
       "      <td>5280</td>\n",
       "      <td>4553</td>\n",
       "      <td>739</td>\n",
       "      <td>1262</td>\n",
       "      <td>...</td>\n",
       "      <td>27</td>\n",
       "      <td>95</td>\n",
       "      <td>814</td>\n",
       "      <td>111</td>\n",
       "      <td>0.447</td>\n",
       "      <td>0.360</td>\n",
       "      <td>0.807</td>\n",
       "      <td>133</td>\n",
       "      <td>0.267</td>\n",
       "      <td>0.223</td>\n",
       "    </tr>\n",
       "    <tr>\n",
       "      <th>3</th>\n",
       "      <td>4</td>\n",
       "      <td>2001</td>\n",
       "      <td>4</td>\n",
       "      <td>두산</td>\n",
       "      <td>0.276</td>\n",
       "      <td>133</td>\n",
       "      <td>5303</td>\n",
       "      <td>4583</td>\n",
       "      <td>732</td>\n",
       "      <td>1266</td>\n",
       "      <td>...</td>\n",
       "      <td>27</td>\n",
       "      <td>60</td>\n",
       "      <td>697</td>\n",
       "      <td>116</td>\n",
       "      <td>0.421</td>\n",
       "      <td>0.359</td>\n",
       "      <td>0.780</td>\n",
       "      <td>133</td>\n",
       "      <td>0.278</td>\n",
       "      <td>0.163</td>\n",
       "    </tr>\n",
       "    <tr>\n",
       "      <th>4</th>\n",
       "      <td>5</td>\n",
       "      <td>2001</td>\n",
       "      <td>5</td>\n",
       "      <td>LG</td>\n",
       "      <td>0.276</td>\n",
       "      <td>133</td>\n",
       "      <td>5319</td>\n",
       "      <td>4521</td>\n",
       "      <td>669</td>\n",
       "      <td>1247</td>\n",
       "      <td>...</td>\n",
       "      <td>24</td>\n",
       "      <td>52</td>\n",
       "      <td>759</td>\n",
       "      <td>100</td>\n",
       "      <td>0.391</td>\n",
       "      <td>0.363</td>\n",
       "      <td>0.754</td>\n",
       "      <td>133</td>\n",
       "      <td>0.280</td>\n",
       "      <td>0.263</td>\n",
       "    </tr>\n",
       "    <tr>\n",
       "      <th>...</th>\n",
       "      <td>...</td>\n",
       "      <td>...</td>\n",
       "      <td>...</td>\n",
       "      <td>...</td>\n",
       "      <td>...</td>\n",
       "      <td>...</td>\n",
       "      <td>...</td>\n",
       "      <td>...</td>\n",
       "      <td>...</td>\n",
       "      <td>...</td>\n",
       "      <td>...</td>\n",
       "      <td>...</td>\n",
       "      <td>...</td>\n",
       "      <td>...</td>\n",
       "      <td>...</td>\n",
       "      <td>...</td>\n",
       "      <td>...</td>\n",
       "      <td>...</td>\n",
       "      <td>...</td>\n",
       "      <td>...</td>\n",
       "      <td>...</td>\n",
       "    </tr>\n",
       "    <tr>\n",
       "      <th>189</th>\n",
       "      <td>190</td>\n",
       "      <td>2022</td>\n",
       "      <td>6</td>\n",
       "      <td>두산</td>\n",
       "      <td>0.255</td>\n",
       "      <td>144</td>\n",
       "      <td>5510</td>\n",
       "      <td>4891</td>\n",
       "      <td>638</td>\n",
       "      <td>1249</td>\n",
       "      <td>...</td>\n",
       "      <td>16</td>\n",
       "      <td>71</td>\n",
       "      <td>1007</td>\n",
       "      <td>116</td>\n",
       "      <td>0.365</td>\n",
       "      <td>0.324</td>\n",
       "      <td>0.689</td>\n",
       "      <td>144</td>\n",
       "      <td>0.266</td>\n",
       "      <td>0.246</td>\n",
       "    </tr>\n",
       "    <tr>\n",
       "      <th>190</th>\n",
       "      <td>191</td>\n",
       "      <td>2022</td>\n",
       "      <td>7</td>\n",
       "      <td>SSG</td>\n",
       "      <td>0.254</td>\n",
       "      <td>144</td>\n",
       "      <td>5642</td>\n",
       "      <td>4893</td>\n",
       "      <td>720</td>\n",
       "      <td>1245</td>\n",
       "      <td>...</td>\n",
       "      <td>22</td>\n",
       "      <td>95</td>\n",
       "      <td>1075</td>\n",
       "      <td>96</td>\n",
       "      <td>0.396</td>\n",
       "      <td>0.336</td>\n",
       "      <td>0.732</td>\n",
       "      <td>143</td>\n",
       "      <td>0.272</td>\n",
       "      <td>0.228</td>\n",
       "    </tr>\n",
       "    <tr>\n",
       "      <th>191</th>\n",
       "      <td>192</td>\n",
       "      <td>2022</td>\n",
       "      <td>8</td>\n",
       "      <td>KT</td>\n",
       "      <td>0.254</td>\n",
       "      <td>144</td>\n",
       "      <td>5547</td>\n",
       "      <td>4864</td>\n",
       "      <td>631</td>\n",
       "      <td>1237</td>\n",
       "      <td>...</td>\n",
       "      <td>21</td>\n",
       "      <td>49</td>\n",
       "      <td>1183</td>\n",
       "      <td>105</td>\n",
       "      <td>0.375</td>\n",
       "      <td>0.330</td>\n",
       "      <td>0.705</td>\n",
       "      <td>144</td>\n",
       "      <td>0.239</td>\n",
       "      <td>0.232</td>\n",
       "    </tr>\n",
       "    <tr>\n",
       "      <th>192</th>\n",
       "      <td>193</td>\n",
       "      <td>2022</td>\n",
       "      <td>9</td>\n",
       "      <td>키움</td>\n",
       "      <td>0.252</td>\n",
       "      <td>144</td>\n",
       "      <td>5655</td>\n",
       "      <td>4953</td>\n",
       "      <td>621</td>\n",
       "      <td>1250</td>\n",
       "      <td>...</td>\n",
       "      <td>26</td>\n",
       "      <td>92</td>\n",
       "      <td>1032</td>\n",
       "      <td>89</td>\n",
       "      <td>0.364</td>\n",
       "      <td>0.333</td>\n",
       "      <td>0.697</td>\n",
       "      <td>143</td>\n",
       "      <td>0.243</td>\n",
       "      <td>0.182</td>\n",
       "    </tr>\n",
       "    <tr>\n",
       "      <th>193</th>\n",
       "      <td>194</td>\n",
       "      <td>2022</td>\n",
       "      <td>10</td>\n",
       "      <td>한화</td>\n",
       "      <td>0.245</td>\n",
       "      <td>144</td>\n",
       "      <td>5513</td>\n",
       "      <td>4878</td>\n",
       "      <td>564</td>\n",
       "      <td>1196</td>\n",
       "      <td>...</td>\n",
       "      <td>13</td>\n",
       "      <td>52</td>\n",
       "      <td>1264</td>\n",
       "      <td>92</td>\n",
       "      <td>0.352</td>\n",
       "      <td>0.319</td>\n",
       "      <td>0.671</td>\n",
       "      <td>144</td>\n",
       "      <td>0.237</td>\n",
       "      <td>0.211</td>\n",
       "    </tr>\n",
       "  </tbody>\n",
       "</table>\n",
       "<p>194 rows × 29 columns</p>\n",
       "</div>"
      ],
      "text/plain": [
       "      ID    시즌  순위   팀명    AVG    G    PA    AB    R     H  ...  IBB  HBP  \\\n",
       "0      1  2001   1   롯데  0.280  133  5308  4521  718  1265  ...   39   60   \n",
       "1      2  2001   2  KIA  0.278  133  5189  4542  683  1263  ...   21   56   \n",
       "2      3  2001   3   삼성  0.277  133  5280  4553  739  1262  ...   27   95   \n",
       "3      4  2001   4   두산  0.276  133  5303  4583  732  1266  ...   27   60   \n",
       "4      5  2001   5   LG  0.276  133  5319  4521  669  1247  ...   24   52   \n",
       "..   ...   ...  ..  ...    ...  ...   ...   ...  ...   ...  ...  ...  ...   \n",
       "189  190  2022   6   두산  0.255  144  5510  4891  638  1249  ...   16   71   \n",
       "190  191  2022   7  SSG  0.254  144  5642  4893  720  1245  ...   22   95   \n",
       "191  192  2022   8   KT  0.254  144  5547  4864  631  1237  ...   21   49   \n",
       "192  193  2022   9   키움  0.252  144  5655  4953  621  1250  ...   26   92   \n",
       "193  194  2022  10   한화  0.245  144  5513  4878  564  1196  ...   13   52   \n",
       "\n",
       "       SO  GDP    SLG    OBP    OPS   MH   RISP  PH-BA  \n",
       "0     817   89  0.425  0.365  0.790  133  0.288  0.244  \n",
       "1     774  129  0.428  0.353  0.781  133  0.272  0.225  \n",
       "2     814  111  0.447  0.360  0.807  133  0.267  0.223  \n",
       "3     697  116  0.421  0.359  0.780  133  0.278  0.163  \n",
       "4     759  100  0.391  0.363  0.754  133  0.280  0.263  \n",
       "..    ...  ...    ...    ...    ...  ...    ...    ...  \n",
       "189  1007  116  0.365  0.324  0.689  144  0.266  0.246  \n",
       "190  1075   96  0.396  0.336  0.732  143  0.272  0.228  \n",
       "191  1183  105  0.375  0.330  0.705  144  0.239  0.232  \n",
       "192  1032   89  0.364  0.333  0.697  143  0.243  0.182  \n",
       "193  1264   92  0.352  0.319  0.671  144  0.237  0.211  \n",
       "\n",
       "[194 rows x 29 columns]"
      ]
     },
     "execution_count": 30,
     "metadata": {},
     "output_type": "execute_result"
    }
   ],
   "source": [
    "pd.read_excel(\"C:\\\\Users\\\\SeungHyeon\\\\Desktop\\\\학교\\\\실험설계및분석\\\\[미션02][야구][팀][1982-2022].xlsx\")"
   ]
  },
  {
   "cell_type": "code",
   "execution_count": 29,
   "id": "b13a9deb-a612-4c7e-b093-54c7af66b21d",
   "metadata": {},
   "outputs": [
    {
     "name": "stdout",
     "output_type": "stream",
     "text": [
      "Collecting xlrd\n",
      "  Downloading xlrd-2.0.1-py2.py3-none-any.whl (96 kB)\n",
      "     ---------------------------------------- 0.0/96.5 kB ? eta -:--:--\n",
      "     -------------------------------------- - 92.2/96.5 kB 2.6 MB/s eta 0:00:01\n",
      "     ---------------------------------------- 96.5/96.5 kB 1.8 MB/s eta 0:00:00\n",
      "Installing collected packages: xlrd\n",
      "Successfully installed xlrd-2.0.1\n",
      "Collecting openpyxl\n",
      "  Downloading openpyxl-3.1.2-py2.py3-none-any.whl (249 kB)\n",
      "     ---------------------------------------- 0.0/250.0 kB ? eta -:--:--\n",
      "     -------------- ------------------------ 92.2/250.0 kB 2.6 MB/s eta 0:00:01\n",
      "     ---------------------------------- --- 225.3/250.0 kB 2.8 MB/s eta 0:00:01\n",
      "     -------------------------------------- 250.0/250.0 kB 2.2 MB/s eta 0:00:00\n",
      "Collecting et-xmlfile (from openpyxl)\n",
      "  Downloading et_xmlfile-1.1.0-py3-none-any.whl (4.7 kB)\n",
      "Installing collected packages: et-xmlfile, openpyxl\n",
      "Successfully installed et-xmlfile-1.1.0 openpyxl-3.1.2\n"
     ]
    }
   ],
   "source": [
    "!pip install xlrd\n",
    "!pip install openpyxl"
   ]
  },
  {
   "cell_type": "code",
   "execution_count": 33,
   "id": "18ae2d3b-07e1-4d53-9c7d-869d4e752b52",
   "metadata": {},
   "outputs": [
    {
     "data": {
      "text/html": [
       "<div>\n",
       "<style scoped>\n",
       "    .dataframe tbody tr th:only-of-type {\n",
       "        vertical-align: middle;\n",
       "    }\n",
       "\n",
       "    .dataframe tbody tr th {\n",
       "        vertical-align: top;\n",
       "    }\n",
       "\n",
       "    .dataframe thead th {\n",
       "        text-align: right;\n",
       "    }\n",
       "</style>\n",
       "<table border=\"1\" class=\"dataframe\">\n",
       "  <thead>\n",
       "    <tr style=\"text-align: right;\">\n",
       "      <th></th>\n",
       "      <th>win</th>\n",
       "      <th>draw</th>\n",
       "      <th>lose</th>\n",
       "      <th>oow</th>\n",
       "    </tr>\n",
       "  </thead>\n",
       "  <tbody>\n",
       "    <tr>\n",
       "      <th>0</th>\n",
       "      <td>74</td>\n",
       "      <td>2</td>\n",
       "      <td>47</td>\n",
       "      <td>0.612</td>\n",
       "    </tr>\n",
       "    <tr>\n",
       "      <th>1</th>\n",
       "      <td>69</td>\n",
       "      <td>3</td>\n",
       "      <td>55</td>\n",
       "      <td>0.556</td>\n",
       "    </tr>\n",
       "    <tr>\n",
       "      <th>2</th>\n",
       "      <td>65</td>\n",
       "      <td>2</td>\n",
       "      <td>53</td>\n",
       "      <td>0.551</td>\n",
       "    </tr>\n",
       "    <tr>\n",
       "      <th>3</th>\n",
       "      <td>64</td>\n",
       "      <td>1</td>\n",
       "      <td>57</td>\n",
       "      <td>0.529</td>\n",
       "    </tr>\n",
       "    <tr>\n",
       "      <th>4</th>\n",
       "      <td>60</td>\n",
       "      <td>2</td>\n",
       "      <td>57</td>\n",
       "      <td>0.513</td>\n",
       "    </tr>\n",
       "    <tr>\n",
       "      <th>5</th>\n",
       "      <td>62</td>\n",
       "      <td>2</td>\n",
       "      <td>59</td>\n",
       "      <td>0.512</td>\n",
       "    </tr>\n",
       "    <tr>\n",
       "      <th>6</th>\n",
       "      <td>58</td>\n",
       "      <td>0</td>\n",
       "      <td>64</td>\n",
       "      <td>0.475</td>\n",
       "    </tr>\n",
       "    <tr>\n",
       "      <th>7</th>\n",
       "      <td>51</td>\n",
       "      <td>6</td>\n",
       "      <td>66</td>\n",
       "      <td>0.436</td>\n",
       "    </tr>\n",
       "    <tr>\n",
       "      <th>8</th>\n",
       "      <td>53</td>\n",
       "      <td>1</td>\n",
       "      <td>71</td>\n",
       "      <td>0.427</td>\n",
       "    </tr>\n",
       "    <tr>\n",
       "      <th>9</th>\n",
       "      <td>51</td>\n",
       "      <td>3</td>\n",
       "      <td>78</td>\n",
       "      <td>0.395</td>\n",
       "    </tr>\n",
       "  </tbody>\n",
       "</table>\n",
       "</div>"
      ],
      "text/plain": [
       "   win  draw  lose    oow\n",
       "0   74     2    47  0.612\n",
       "1   69     3    55  0.556\n",
       "2   65     2    53  0.551\n",
       "3   64     1    57  0.529\n",
       "4   60     2    57  0.513\n",
       "5   62     2    59  0.512\n",
       "6   58     0    64  0.475\n",
       "7   51     6    66  0.436\n",
       "8   53     1    71  0.427\n",
       "9   51     3    78  0.395"
      ]
     },
     "execution_count": 33,
     "metadata": {},
     "output_type": "execute_result"
    }
   ],
   "source": [
    "pd.DataFrame({'win' : [74,69,65,64,60,62,58,51,53,51],\n",
    "             'draw': [2,3,2,1,2,2,0,6,1,3],\n",
    "             'lose': [47,55,53,57,57,59,64,66,71,78],\n",
    "             'oow' : [0.612,0.556,0.551,0.529,0.513,0.512,0.475,0.436,0.427,0.395]})"
   ]
  },
  {
   "cell_type": "markdown",
   "id": "31c37521-7371-42f8-bc05-2b4848f562de",
   "metadata": {},
   "source": [
    "---"
   ]
  },
  {
   "cell_type": "markdown",
   "id": "2091418d-d161-419a-8994-64aff2a5ea00",
   "metadata": {},
   "source": [
    "# 2장 일원배치 분산분석"
   ]
  },
  {
   "cell_type": "markdown",
   "id": "97b7a1c3-e329-4564-be18-e7cad0ec8d86",
   "metadata": {},
   "source": [
    "## 예제 2-1"
   ]
  },
  {
   "cell_type": "markdown",
   "id": "b0735a6d-7397-432f-a3bd-3adb3c77c8ad",
   "metadata": {},
   "source": [
    "고정 모형이냐 랜덤 모형이냐에 따라 분석이 달라짐. \n",
    "이 예제는 고정 모형으로 보임.\n",
    "이 판단을 하는게 상당히 중요함"
   ]
  },
  {
   "cell_type": "markdown",
   "id": "fa7f580b-54a1-4fce-bed4-d6a7eff2ae0d",
   "metadata": {},
   "source": [
    "랜덤하게 해야함. 순차적으로 하면 익숙해지면서 정확한 분석이 힘들어진다."
   ]
  },
  {
   "cell_type": "code",
   "execution_count": 7,
   "id": "f9011dd7-4271-476b-89b2-b3a9d21eb820",
   "metadata": {},
   "outputs": [],
   "source": [
    "import numpy as np\n",
    "import pandas as pd"
   ]
  },
  {
   "cell_type": "code",
   "execution_count": 5,
   "id": "4f7a80a4-0966-40c3-ad19-ab56f2910eb3",
   "metadata": {},
   "outputs": [],
   "source": [
    "ex2_1 = pd.DataFrame({'125' : [12,15,16,17],\n",
    "                     '150' : [18,22,26,30],\n",
    "                     '175' : [15,26,43,20],\n",
    "                     '200' : [39,46,49,38]})"
   ]
  },
  {
   "cell_type": "code",
   "execution_count": 6,
   "id": "d807c11d-d305-43b3-8628-6c073099b8d0",
   "metadata": {},
   "outputs": [
    {
     "data": {
      "text/html": [
       "<div>\n",
       "<style scoped>\n",
       "    .dataframe tbody tr th:only-of-type {\n",
       "        vertical-align: middle;\n",
       "    }\n",
       "\n",
       "    .dataframe tbody tr th {\n",
       "        vertical-align: top;\n",
       "    }\n",
       "\n",
       "    .dataframe thead th {\n",
       "        text-align: right;\n",
       "    }\n",
       "</style>\n",
       "<table border=\"1\" class=\"dataframe\">\n",
       "  <thead>\n",
       "    <tr style=\"text-align: right;\">\n",
       "      <th></th>\n",
       "      <th>125</th>\n",
       "      <th>150</th>\n",
       "      <th>175</th>\n",
       "      <th>200</th>\n",
       "    </tr>\n",
       "  </thead>\n",
       "  <tbody>\n",
       "    <tr>\n",
       "      <th>0</th>\n",
       "      <td>12</td>\n",
       "      <td>18</td>\n",
       "      <td>15</td>\n",
       "      <td>39</td>\n",
       "    </tr>\n",
       "    <tr>\n",
       "      <th>1</th>\n",
       "      <td>15</td>\n",
       "      <td>22</td>\n",
       "      <td>26</td>\n",
       "      <td>46</td>\n",
       "    </tr>\n",
       "    <tr>\n",
       "      <th>2</th>\n",
       "      <td>16</td>\n",
       "      <td>26</td>\n",
       "      <td>43</td>\n",
       "      <td>49</td>\n",
       "    </tr>\n",
       "    <tr>\n",
       "      <th>3</th>\n",
       "      <td>17</td>\n",
       "      <td>30</td>\n",
       "      <td>20</td>\n",
       "      <td>38</td>\n",
       "    </tr>\n",
       "  </tbody>\n",
       "</table>\n",
       "</div>"
      ],
      "text/plain": [
       "   125  150  175  200\n",
       "0   12   18   15   39\n",
       "1   15   22   26   46\n",
       "2   16   26   43   49\n",
       "3   17   30   20   38"
      ]
     },
     "execution_count": 6,
     "metadata": {},
     "output_type": "execute_result"
    }
   ],
   "source": [
    "ex2_1"
   ]
  },
  {
   "cell_type": "code",
   "execution_count": 42,
   "id": "809ceb63-bf6e-4fea-9411-fd0becb0d1f8",
   "metadata": {},
   "outputs": [
    {
     "name": "stdout",
     "output_type": "stream",
     "text": [
      "Y1 :  15.0 \n",
      "Y2 :  24.0 \n",
      "Y3 :  26.0 \n",
      "Y4 :  43.0 \n",
      "Y :  27.0\n"
     ]
    }
   ],
   "source": [
    "#평균\n",
    "Y1 = np.mean(ex2_1['125'])\n",
    "Y2 = np.mean(ex2_1['150'])\n",
    "Y3 = np.mean(ex2_1['175'])\n",
    "Y4 = np.mean(ex2_1['200'])\n",
    "Y = np.mean([Y1,Y2,Y3,Y4])\n",
    "\n",
    "print('Y1 : ',Y1,'\\nY2 : ',Y2,'\\nY3 : ',Y3,'\\nY4 : ',Y4,'\\nY : ',Y)"
   ]
  },
  {
   "cell_type": "code",
   "execution_count": 43,
   "id": "25dd5c02-388f-4ca7-9ab3-615bef9f4ba7",
   "metadata": {},
   "outputs": [
    {
     "name": "stdout",
     "output_type": "stream",
     "text": [
      "Y_1 :  [-3.0, 0.0, 1.0, 2.0] \n",
      "Y_2 :  [-6.0, -2.0, 2.0, 6.0] \n",
      "Y_3 :  [-11.0, 0.0, 17.0, -6.0] \n",
      "Y_4 :  [-4.0, 3.0, 6.0, -5.0]\n"
     ]
    }
   ],
   "source": [
    "#잔차\n",
    "Y_1 = list(list(ex2_1['125'])-Y1)\n",
    "Y_2 = list(list(ex2_1['150'])-Y2)\n",
    "Y_3 = list(list(ex2_1['175'])-Y3)\n",
    "Y_4 = list(list(ex2_1['200'])-Y4)\n",
    "\n",
    "print('Y_1 : ',Y_1,'\\nY_2 : ',Y_2,'\\nY_3 : ',Y_3,'\\nY_4 : ',Y_4)"
   ]
  },
  {
   "cell_type": "code",
   "execution_count": 47,
   "id": "f28ee255-229b-4180-9c1e-fc19d74226cc",
   "metadata": {},
   "outputs": [],
   "source": [
    "def sum22(list):\n",
    "    K = list\n",
    "    sum = 0\n",
    "    for i in range(4):\n",
    "        sum = sum + K[i]**2\n",
    "    return sum  "
   ]
  },
  {
   "cell_type": "code",
   "execution_count": 62,
   "id": "5e619265-fea9-4b5a-9567-e16d8bd11b78",
   "metadata": {},
   "outputs": [
    {
     "name": "stdout",
     "output_type": "stream",
     "text": [
      "626.0\n"
     ]
    }
   ],
   "source": [
    "Y22 = list([sum22(Y_1),sum22(Y_2),sum22(Y_3),sum22(Y_4)])\n",
    "SSE = np.sum(Y22)\n",
    "print(SSE)"
   ]
  },
  {
   "cell_type": "code",
   "execution_count": 68,
   "id": "c0f1f32f-61fc-43a7-a166-e3b2f1f9600e",
   "metadata": {},
   "outputs": [
    {
     "name": "stdout",
     "output_type": "stream",
     "text": [
      "Yt_1 :  -12.0 \n",
      "Yt_2 :  -3.0 \n",
      "Yt_3 :  -1.0 \n",
      "Yt_4 :  16.0\n"
     ]
    }
   ],
   "source": [
    "#처리효과\n",
    "Yt_1 = Y1-Y\n",
    "Yt_2 = Y2-Y\n",
    "Yt_3 = Y3-Y\n",
    "Yt_4 = Y4-Y\n",
    "\n",
    "print('Yt_1 : ',Yt_1,'\\nYt_2 : ',Yt_2,'\\nYt_3 : ',Yt_3,'\\nYt_4 : ',Yt_4)"
   ]
  },
  {
   "cell_type": "code",
   "execution_count": 76,
   "id": "9d2eeef3-a19f-44f3-a166-bb7852ab9a7d",
   "metadata": {},
   "outputs": [
    {
     "name": "stdout",
     "output_type": "stream",
     "text": [
      "1640.0\n"
     ]
    }
   ],
   "source": [
    "Yt22 = [Yt_1**2,Yt_2**2,Yt_3**2,Yt_4**2]\n",
    "SStr = np.sum(Yt22)*4\n",
    "print(SStr)"
   ]
  },
  {
   "cell_type": "code",
   "execution_count": 73,
   "id": "5fbb16d9-c89e-4679-a979-9d5cf6b9b64c",
   "metadata": {},
   "outputs": [
    {
     "name": "stdout",
     "output_type": "stream",
     "text": [
      "Ya_1 :  [-15.0, -12.0, -11.0, -10.0] \n",
      "Ya_2 :  [-9.0, -5.0, -1.0, 3.0] \n",
      "Ya_3 :  [-12.0, -1.0, 16.0, -7.0] \n",
      "Ya_4 :  [12.0, 19.0, 22.0, 11.0]\n"
     ]
    }
   ],
   "source": [
    "#총편차\n",
    "Ya_1 = list(list(ex2_1['125'])-Y)\n",
    "Ya_2 = list(list(ex2_1['150'])-Y)\n",
    "Ya_3 = list(list(ex2_1['175'])-Y)\n",
    "Ya_4 = list(list(ex2_1['200'])-Y)\n",
    "\n",
    "print('Ya_1 : ',Ya_1,'\\nYa_2 : ',Ya_2,'\\nYa_3 : ',Ya_3,'\\nYa_4 : ',Ya_4)"
   ]
  },
  {
   "cell_type": "code",
   "execution_count": 74,
   "id": "fbe3df44-d90b-4076-9c14-66507e4f6d14",
   "metadata": {},
   "outputs": [
    {
     "name": "stdout",
     "output_type": "stream",
     "text": [
      "2266.0\n"
     ]
    }
   ],
   "source": [
    "Ya22 = [sum22(Ya_1),sum22(Ya_2),sum22(Ya_3),sum22(Ya_4)]\n",
    "SST = np.sum(Ya22)\n",
    "print(SST)"
   ]
  },
  {
   "cell_type": "code",
   "execution_count": 88,
   "id": "3d806b6a-9cb8-41a5-9c3c-fbc3392be9ec",
   "metadata": {},
   "outputs": [
    {
     "name": "stdout",
     "output_type": "stream",
     "text": [
      "SST(2266.0) = SStr(1640.0) + SSE(626.0) = 2266.0\n"
     ]
    }
   ],
   "source": [
    "print(f'SST({SST}) = SStr({SStr}) + SSE({SSE}) = {SStr+SSE}')"
   ]
  },
  {
   "cell_type": "code",
   "execution_count": 86,
   "id": "f157f635-d38c-4437-99bd-6a7fe7605107",
   "metadata": {},
   "outputs": [
    {
     "name": "stdout",
     "output_type": "stream",
     "text": [
      "MST =  151.07 \n",
      "MSE =  52.17 \n",
      "MSR =  546.67\n"
     ]
    }
   ],
   "source": [
    "MSE = round(626/12,2)\n",
    "MSR = round(1640/3,2)\n",
    "MST = round(2266/15,2)\n",
    "print('MST = ',MST,'\\nMSE = ',MSE,'\\nMSR = ',MSR)"
   ]
  },
  {
   "cell_type": "code",
   "execution_count": 87,
   "id": "8eb2fa77-0db2-4d6a-8b3e-b694a5d2fd04",
   "metadata": {},
   "outputs": [
    {
     "data": {
      "text/plain": [
       "10.478627563733946"
      ]
     },
     "execution_count": 87,
     "metadata": {},
     "output_type": "execute_result"
    }
   ],
   "source": [
    "F = MSR/MSE\n",
    "F"
   ]
  },
  {
   "cell_type": "code",
   "execution_count": 90,
   "id": "6dc9864b-95e5-43f8-9466-1c33d6b76eae",
   "metadata": {},
   "outputs": [
    {
     "data": {
      "text/plain": [
       "3.49"
      ]
     },
     "execution_count": 90,
     "metadata": {},
     "output_type": "execute_result"
    }
   ],
   "source": [
    "F3_12 = 3.49\n",
    "F3_12"
   ]
  },
  {
   "cell_type": "code",
   "execution_count": 91,
   "id": "e87d9b40-8527-45fa-9e3c-006fff071635",
   "metadata": {},
   "outputs": [
    {
     "data": {
      "text/plain": [
       "186624"
      ]
     },
     "execution_count": 91,
     "metadata": {},
     "output_type": "execute_result"
    }
   ],
   "source": [
    "11664*16"
   ]
  },
  {
   "cell_type": "code",
   "execution_count": 92,
   "id": "3048badd-bbca-4399-a981-6db810b7533d",
   "metadata": {},
   "outputs": [
    {
     "data": {
      "text/plain": [
       "432.0"
      ]
     },
     "execution_count": 92,
     "metadata": {},
     "output_type": "execute_result"
    }
   ],
   "source": [
    "np.sqrt(186624)"
   ]
  },
  {
   "cell_type": "code",
   "execution_count": 101,
   "id": "c235ef7b-7296-4728-88ab-790413e1facc",
   "metadata": {},
   "outputs": [
    {
     "name": "stdout",
     "output_type": "stream",
     "text": [
      "13930\n"
     ]
    }
   ],
   "source": [
    "sum = 0\n",
    "for i in range(4):\n",
    "    for j in range(4):\n",
    "        sum = sum + ex2_1.loc[i][j]**2\n",
    "print(sum)"
   ]
  },
  {
   "cell_type": "code",
   "execution_count": 102,
   "id": "8638cc01-792d-4202-8bbe-1db3a8f80ac7",
   "metadata": {},
   "outputs": [
    {
     "data": {
      "text/plain": [
       "2266"
      ]
     },
     "execution_count": 102,
     "metadata": {},
     "output_type": "execute_result"
    }
   ],
   "source": [
    "13930-11664"
   ]
  },
  {
   "cell_type": "markdown",
   "id": "9ad3cf34-d7ba-427f-a142-843aa8cf9fce",
   "metadata": {},
   "source": [
    "---"
   ]
  },
  {
   "cell_type": "markdown",
   "id": "19ef88e9-97c5-4a59-a2e3-871dbbda4397",
   "metadata": {},
   "source": [
    "## 10/06"
   ]
  },
  {
   "cell_type": "markdown",
   "id": "8f4d8f15-0120-4cd6-a5b9-d2ea93afa020",
   "metadata": {},
   "source": [
    "p.40 - (c) = 6단계"
   ]
  },
  {
   "cell_type": "markdown",
   "id": "abe88da0-bb85-4c64-bb5b-334c000f02b5",
   "metadata": {},
   "source": [
    "p.41 - (f)\n",
    "0. 제일 먼저 동질성부터 확인\n",
    "1. 가성 설립\n",
    "$$H_0 : \\mu_1 - \\mu_2 = 0$$"
   ]
  },
  {
   "cell_type": "markdown",
   "id": "188f011d-bad2-4ecd-b0c8-b5d8967be7a5",
   "metadata": {},
   "source": [
    "2. P-value = 0.141"
   ]
  },
  {
   "cell_type": "markdown",
   "id": "4fe8900a-d285-49f8-ba54-ffa4f20cb2f4",
   "metadata": {},
   "source": [
    "3. 유의수준 5%에서 검정 "
   ]
  },
  {
   "cell_type": "markdown",
   "id": "fddd3a57-8f5f-4a11-bd1e-7d5f127017db",
   "metadata": {},
   "source": [
    "4. 검정 결과\n",
    "$$H_0 \\space \\space not \\space \\space reject$$"
   ]
  },
  {
   "cell_type": "markdown",
   "id": "55833869-c46e-4d79-873a-2d485e3af700",
   "metadata": {},
   "source": [
    "---"
   ]
  },
  {
   "cell_type": "markdown",
   "id": "0a0f3e59-b372-4369-8669-1f8df6beb762",
   "metadata": {},
   "source": [
    "집단간 분석\n",
    "1. 가설 설립\n",
    "$$H_0 : \\mu_1 = \\mu_2 = \\mu_3 = \\mu_4$$"
   ]
  },
  {
   "cell_type": "markdown",
   "id": "249eee0e-36db-40b6-9c06-a83eda38563e",
   "metadata": {},
   "source": [
    "$$H_1 : not \\space \\space H_0$$"
   ]
  },
  {
   "cell_type": "markdown",
   "id": "2601bcaa-6cbe-4196-aafd-77b019146fff",
   "metadata": {},
   "source": [
    "2. P-value = 0.001 $$\\alpha = 0.01$$"
   ]
  },
  {
   "cell_type": "markdown",
   "id": "e032b657-05c8-4bbd-aefe-22589ef32c70",
   "metadata": {},
   "source": [
    "3. 검정 결과_통계적 결론\n",
    "$$ H_0 \\space \\space reject $$"
   ]
  },
  {
   "cell_type": "markdown",
   "id": "3b3b624c-18e6-47b8-9305-dcc931b31d5a",
   "metadata": {},
   "source": [
    "4. 결론 : 열처리 온도에 따른 강도의 차이가 존재한다."
   ]
  },
  {
   "cell_type": "markdown",
   "id": "7c2c049b-ec71-48f8-8700-8ddc6c22e6a5",
   "metadata": {},
   "source": [
    "---"
   ]
  },
  {
   "cell_type": "markdown",
   "id": "76355787-431a-408e-99ef-e36ae6932c8a",
   "metadata": {},
   "source": [
    "신뢰구간 구하기"
   ]
  },
  {
   "cell_type": "code",
   "execution_count": 5,
   "id": "18597550-c4a2-49c8-811f-09d8fa30a876",
   "metadata": {},
   "outputs": [],
   "source": [
    "import math"
   ]
  },
  {
   "cell_type": "code",
   "execution_count": 14,
   "id": "126cf214-fb8d-482d-a247-ebc762cae511",
   "metadata": {},
   "outputs": [],
   "source": [
    "Yb = 15\n",
    "t2a = 2.179\n",
    "MSE = 52.167\n",
    "m = 4"
   ]
  },
  {
   "cell_type": "code",
   "execution_count": 15,
   "id": "fd65605b-e61d-40e6-8931-35a5e8f743dc",
   "metadata": {},
   "outputs": [],
   "source": [
    "llim = Yb - t2a*math.sqrt(MSE)/math.sqrt(m)\n",
    "hlim = Yb + t2a*math.sqrt(MSE)/math.sqrt(m)"
   ]
  },
  {
   "cell_type": "code",
   "execution_count": 16,
   "id": "582ab313-557d-4b9c-bacc-cf3d92ef3344",
   "metadata": {},
   "outputs": [
    {
     "data": {
      "text/plain": [
       "7.1308981635926205"
      ]
     },
     "metadata": {},
     "output_type": "display_data"
    },
    {
     "data": {
      "text/plain": [
       "22.86910183640738"
      ]
     },
     "metadata": {},
     "output_type": "display_data"
    }
   ],
   "source": [
    "display(llim,hlim)"
   ]
  },
  {
   "cell_type": "code",
   "execution_count": 17,
   "id": "78e178df-df0c-43b4-b7b6-b07cb3ae70a6",
   "metadata": {},
   "outputs": [],
   "source": [
    "def lh_lim(Yb,t2a,MSE,m):\n",
    "    llim = Yb - t2a*math.sqrt(MSE)/math.sqrt(m)\n",
    "    hlim = Yb + t2a*math.sqrt(MSE)/math.sqrt(m)\n",
    "    return display(llim,hlim)"
   ]
  },
  {
   "cell_type": "code",
   "execution_count": 22,
   "id": "d9dcd710-dbc8-451c-8a9e-5ff1fd1e9d28",
   "metadata": {},
   "outputs": [
    {
     "name": "stdout",
     "output_type": "stream",
     "text": [
      "=============================\n"
     ]
    },
    {
     "data": {
      "text/plain": [
       "7.1308981635926205"
      ]
     },
     "metadata": {},
     "output_type": "display_data"
    },
    {
     "data": {
      "text/plain": [
       "22.86910183640738"
      ]
     },
     "metadata": {},
     "output_type": "display_data"
    },
    {
     "name": "stdout",
     "output_type": "stream",
     "text": [
      "=============================\n"
     ]
    },
    {
     "data": {
      "text/plain": [
       "16.13089816359262"
      ]
     },
     "metadata": {},
     "output_type": "display_data"
    },
    {
     "data": {
      "text/plain": [
       "31.86910183640738"
      ]
     },
     "metadata": {},
     "output_type": "display_data"
    },
    {
     "name": "stdout",
     "output_type": "stream",
     "text": [
      "=============================\n"
     ]
    },
    {
     "data": {
      "text/plain": [
       "18.13089816359262"
      ]
     },
     "metadata": {},
     "output_type": "display_data"
    },
    {
     "data": {
      "text/plain": [
       "33.86910183640738"
      ]
     },
     "metadata": {},
     "output_type": "display_data"
    },
    {
     "name": "stdout",
     "output_type": "stream",
     "text": [
      "=============================\n"
     ]
    },
    {
     "data": {
      "text/plain": [
       "35.13089816359262"
      ]
     },
     "metadata": {},
     "output_type": "display_data"
    },
    {
     "data": {
      "text/plain": [
       "50.86910183640738"
      ]
     },
     "metadata": {},
     "output_type": "display_data"
    },
    {
     "name": "stdout",
     "output_type": "stream",
     "text": [
      "=============================\n"
     ]
    }
   ],
   "source": [
    "print('=============================')\n",
    "# 125도 신뢰구간\n",
    "lh_lim(15,2.179,52.167,4)\n",
    "print('=============================')\n",
    "# 150도 신뢰구간\n",
    "lh_lim(24,2.179,52.167,4)\n",
    "print('=============================')\n",
    "# 175도 신뢰구간\n",
    "lh_lim(26,2.179,52.167,4)\n",
    "print('=============================')\n",
    "# 200도 신뢰구간\n",
    "lh_lim(43,2.179,52.167,4)\n",
    "print('=============================')"
   ]
  },
  {
   "cell_type": "code",
   "execution_count": 23,
   "id": "da6e368e-b613-455f-bdef-46e776bf3fd2",
   "metadata": {},
   "outputs": [],
   "source": [
    "def lh_lim2(Yb1,Yb2,t2a,MSE,l):\n",
    "    llim = (Yb1 - Yb2) - t2a*math.sqrt(2*MSE)/math.sqrt(l)\n",
    "    hlim = (Yb1 - Yb2) + t2a*math.sqrt(2*MSE)/math.sqrt(l)\n",
    "    return display(llim,hlim)"
   ]
  },
  {
   "cell_type": "code",
   "execution_count": 37,
   "id": "ea0941af-2c82-403a-87c3-21a2701e422b",
   "metadata": {},
   "outputs": [
    {
     "data": {
      "text/plain": [
       "-20.128590540742344"
      ]
     },
     "metadata": {},
     "output_type": "display_data"
    },
    {
     "data": {
      "text/plain": [
       "2.128590540742346"
      ]
     },
     "metadata": {},
     "output_type": "display_data"
    }
   ],
   "source": [
    "lh_lim2(15,24,2.179,52.167,4)"
   ]
  },
  {
   "cell_type": "code",
   "execution_count": 29,
   "id": "eb1685f4-ecaa-4c29-9c9d-2fbeb8c17cf6",
   "metadata": {},
   "outputs": [],
   "source": [
    "def lh_lim3(Yb,t,s,n):\n",
    "    llim = Yb - t * s / math.sqrt(n)\n",
    "    hlim = Yb + t * s / math.sqrt(n)\n",
    "    return display(llim,hlim)"
   ]
  },
  {
   "cell_type": "code",
   "execution_count": 32,
   "id": "e3fae45c-a26d-429b-86d8-7f746e0ded36",
   "metadata": {},
   "outputs": [
    {
     "name": "stdout",
     "output_type": "stream",
     "text": [
      "=============================\n"
     ]
    },
    {
     "data": {
      "text/plain": [
       "11.56344"
      ]
     },
     "metadata": {},
     "output_type": "display_data"
    },
    {
     "data": {
      "text/plain": [
       "18.43656"
      ]
     },
     "metadata": {},
     "output_type": "display_data"
    },
    {
     "name": "stdout",
     "output_type": "stream",
     "text": [
      "=============================\n"
     ]
    },
    {
     "data": {
      "text/plain": [
       "15.784076"
      ]
     },
     "metadata": {},
     "output_type": "display_data"
    },
    {
     "data": {
      "text/plain": [
       "32.215924"
      ]
     },
     "metadata": {},
     "output_type": "display_data"
    },
    {
     "name": "stdout",
     "output_type": "stream",
     "text": [
      "=============================\n"
     ]
    },
    {
     "data": {
      "text/plain": [
       "6.600937000000002"
      ]
     },
     "metadata": {},
     "output_type": "display_data"
    },
    {
     "data": {
      "text/plain": [
       "45.399063"
      ]
     },
     "metadata": {},
     "output_type": "display_data"
    },
    {
     "name": "stdout",
     "output_type": "stream",
     "text": [
      "=============================\n"
     ]
    },
    {
     "data": {
      "text/plain": [
       "34.481786"
      ]
     },
     "metadata": {},
     "output_type": "display_data"
    },
    {
     "data": {
      "text/plain": [
       "51.518214"
      ]
     },
     "metadata": {},
     "output_type": "display_data"
    },
    {
     "name": "stdout",
     "output_type": "stream",
     "text": [
      "=============================\n"
     ]
    }
   ],
   "source": [
    "print('=============================')\n",
    "lh_lim3(15,3.182,2.160,4)\n",
    "print('=============================')\n",
    "lh_lim3(24,3.182,5.164,4)\n",
    "print('=============================')\n",
    "lh_lim3(26,3.182,12.193,4)\n",
    "print('=============================')\n",
    "lh_lim3(43,3.182,5.354,4)\n",
    "print('=============================')"
   ]
  },
  {
   "cell_type": "markdown",
   "id": "9d264755-96d5-4282-988d-4f17fe94dba1",
   "metadata": {},
   "source": [
    "쓸모 있는 신뢰구간인가 -> 아니다. 이런건 아무 의미 없다. 두 집단간의 차이에 관한 신뢰구간이 더 쓸모 있다."
   ]
  },
  {
   "cell_type": "markdown",
   "id": "cead1124-f602-4904-98ec-377d1f3020e4",
   "metadata": {},
   "source": [
    "---"
   ]
  },
  {
   "cell_type": "markdown",
   "id": "a82b8d8c-7d97-4ba3-904d-aa2358ad7f69",
   "metadata": {},
   "source": [
    "p.46 예제 2-2"
   ]
  },
  {
   "cell_type": "code",
   "execution_count": 47,
   "id": "b0f3658b-1963-40ba-883c-f77190fa11ec",
   "metadata": {},
   "outputs": [],
   "source": [
    "A = [8.0,8,7,9,8,7,9,8,6,8,7,6]\n",
    "B = [6.0,5,7,7,6,7,6,8,7,6,8,7]\n",
    "C = [8.0,8,8,5,6,7,6,7,7,6,7,8]\n",
    "D = [9,4.0,6,5,4,4,5,6,7,5,8,4]"
   ]
  },
  {
   "cell_type": "code",
   "execution_count": 48,
   "id": "330b7e26-c05a-4a3b-b073-11fb6ec99826",
   "metadata": {},
   "outputs": [],
   "source": [
    "import pandas as pd"
   ]
  },
  {
   "cell_type": "code",
   "execution_count": 49,
   "id": "c6955a33-8d47-4d91-8d8d-4c35eba0f89a",
   "metadata": {},
   "outputs": [
    {
     "data": {
      "text/html": [
       "<div>\n",
       "<style scoped>\n",
       "    .dataframe tbody tr th:only-of-type {\n",
       "        vertical-align: middle;\n",
       "    }\n",
       "\n",
       "    .dataframe tbody tr th {\n",
       "        vertical-align: top;\n",
       "    }\n",
       "\n",
       "    .dataframe thead th {\n",
       "        text-align: right;\n",
       "    }\n",
       "</style>\n",
       "<table border=\"1\" class=\"dataframe\">\n",
       "  <thead>\n",
       "    <tr style=\"text-align: right;\">\n",
       "      <th></th>\n",
       "      <th>A</th>\n",
       "      <th>B</th>\n",
       "      <th>C</th>\n",
       "      <th>D</th>\n",
       "    </tr>\n",
       "  </thead>\n",
       "  <tbody>\n",
       "    <tr>\n",
       "      <th>0</th>\n",
       "      <td>8.0</td>\n",
       "      <td>6.0</td>\n",
       "      <td>8.0</td>\n",
       "      <td>9.0</td>\n",
       "    </tr>\n",
       "    <tr>\n",
       "      <th>1</th>\n",
       "      <td>8.0</td>\n",
       "      <td>5.0</td>\n",
       "      <td>8.0</td>\n",
       "      <td>4.0</td>\n",
       "    </tr>\n",
       "    <tr>\n",
       "      <th>2</th>\n",
       "      <td>7.0</td>\n",
       "      <td>7.0</td>\n",
       "      <td>8.0</td>\n",
       "      <td>6.0</td>\n",
       "    </tr>\n",
       "    <tr>\n",
       "      <th>3</th>\n",
       "      <td>9.0</td>\n",
       "      <td>7.0</td>\n",
       "      <td>5.0</td>\n",
       "      <td>5.0</td>\n",
       "    </tr>\n",
       "    <tr>\n",
       "      <th>4</th>\n",
       "      <td>8.0</td>\n",
       "      <td>6.0</td>\n",
       "      <td>6.0</td>\n",
       "      <td>4.0</td>\n",
       "    </tr>\n",
       "    <tr>\n",
       "      <th>5</th>\n",
       "      <td>7.0</td>\n",
       "      <td>7.0</td>\n",
       "      <td>7.0</td>\n",
       "      <td>4.0</td>\n",
       "    </tr>\n",
       "    <tr>\n",
       "      <th>6</th>\n",
       "      <td>9.0</td>\n",
       "      <td>6.0</td>\n",
       "      <td>6.0</td>\n",
       "      <td>5.0</td>\n",
       "    </tr>\n",
       "    <tr>\n",
       "      <th>7</th>\n",
       "      <td>8.0</td>\n",
       "      <td>8.0</td>\n",
       "      <td>7.0</td>\n",
       "      <td>6.0</td>\n",
       "    </tr>\n",
       "    <tr>\n",
       "      <th>8</th>\n",
       "      <td>6.0</td>\n",
       "      <td>7.0</td>\n",
       "      <td>7.0</td>\n",
       "      <td>7.0</td>\n",
       "    </tr>\n",
       "    <tr>\n",
       "      <th>9</th>\n",
       "      <td>8.0</td>\n",
       "      <td>6.0</td>\n",
       "      <td>6.0</td>\n",
       "      <td>5.0</td>\n",
       "    </tr>\n",
       "    <tr>\n",
       "      <th>10</th>\n",
       "      <td>7.0</td>\n",
       "      <td>8.0</td>\n",
       "      <td>7.0</td>\n",
       "      <td>8.0</td>\n",
       "    </tr>\n",
       "    <tr>\n",
       "      <th>11</th>\n",
       "      <td>6.0</td>\n",
       "      <td>7.0</td>\n",
       "      <td>8.0</td>\n",
       "      <td>4.0</td>\n",
       "    </tr>\n",
       "  </tbody>\n",
       "</table>\n",
       "</div>"
      ],
      "text/plain": [
       "      A    B    C    D\n",
       "0   8.0  6.0  8.0  9.0\n",
       "1   8.0  5.0  8.0  4.0\n",
       "2   7.0  7.0  8.0  6.0\n",
       "3   9.0  7.0  5.0  5.0\n",
       "4   8.0  6.0  6.0  4.0\n",
       "5   7.0  7.0  7.0  4.0\n",
       "6   9.0  6.0  6.0  5.0\n",
       "7   8.0  8.0  7.0  6.0\n",
       "8   6.0  7.0  7.0  7.0\n",
       "9   8.0  6.0  6.0  5.0\n",
       "10  7.0  8.0  7.0  8.0\n",
       "11  6.0  7.0  8.0  4.0"
      ]
     },
     "execution_count": 49,
     "metadata": {},
     "output_type": "execute_result"
    }
   ],
   "source": [
    "ex2_2 = pd.DataFrame({'A' : A, 'B' : B, 'C' : C, 'D' : D})\n",
    "ex2_2"
   ]
  },
  {
   "cell_type": "markdown",
   "id": "b1a4cad7-4f92-457c-b504-ed7a4f19f45c",
   "metadata": {},
   "source": [
    "$$R : F >= 2.816$$"
   ]
  },
  {
   "cell_type": "code",
   "execution_count": 50,
   "id": "c0e519ee-458b-488f-9bb0-6657d3d0b39d",
   "metadata": {},
   "outputs": [
    {
     "data": {
      "text/html": [
       "<div>\n",
       "<style scoped>\n",
       "    .dataframe tbody tr th:only-of-type {\n",
       "        vertical-align: middle;\n",
       "    }\n",
       "\n",
       "    .dataframe tbody tr th {\n",
       "        vertical-align: top;\n",
       "    }\n",
       "\n",
       "    .dataframe thead th {\n",
       "        text-align: right;\n",
       "    }\n",
       "</style>\n",
       "<table border=\"1\" class=\"dataframe\">\n",
       "  <thead>\n",
       "    <tr style=\"text-align: right;\">\n",
       "      <th></th>\n",
       "      <th>A</th>\n",
       "      <th>B</th>\n",
       "      <th>C</th>\n",
       "      <th>D</th>\n",
       "    </tr>\n",
       "  </thead>\n",
       "  <tbody>\n",
       "    <tr>\n",
       "      <th>count</th>\n",
       "      <td>12.000000</td>\n",
       "      <td>12.000000</td>\n",
       "      <td>12.000000</td>\n",
       "      <td>12.000000</td>\n",
       "    </tr>\n",
       "    <tr>\n",
       "      <th>mean</th>\n",
       "      <td>7.583333</td>\n",
       "      <td>6.666667</td>\n",
       "      <td>6.916667</td>\n",
       "      <td>5.583333</td>\n",
       "    </tr>\n",
       "    <tr>\n",
       "      <th>std</th>\n",
       "      <td>0.996205</td>\n",
       "      <td>0.887625</td>\n",
       "      <td>0.996205</td>\n",
       "      <td>1.676486</td>\n",
       "    </tr>\n",
       "    <tr>\n",
       "      <th>min</th>\n",
       "      <td>6.000000</td>\n",
       "      <td>5.000000</td>\n",
       "      <td>5.000000</td>\n",
       "      <td>4.000000</td>\n",
       "    </tr>\n",
       "    <tr>\n",
       "      <th>25%</th>\n",
       "      <td>7.000000</td>\n",
       "      <td>6.000000</td>\n",
       "      <td>6.000000</td>\n",
       "      <td>4.000000</td>\n",
       "    </tr>\n",
       "    <tr>\n",
       "      <th>50%</th>\n",
       "      <td>8.000000</td>\n",
       "      <td>7.000000</td>\n",
       "      <td>7.000000</td>\n",
       "      <td>5.000000</td>\n",
       "    </tr>\n",
       "    <tr>\n",
       "      <th>75%</th>\n",
       "      <td>8.000000</td>\n",
       "      <td>7.000000</td>\n",
       "      <td>8.000000</td>\n",
       "      <td>6.250000</td>\n",
       "    </tr>\n",
       "    <tr>\n",
       "      <th>max</th>\n",
       "      <td>9.000000</td>\n",
       "      <td>8.000000</td>\n",
       "      <td>8.000000</td>\n",
       "      <td>9.000000</td>\n",
       "    </tr>\n",
       "  </tbody>\n",
       "</table>\n",
       "</div>"
      ],
      "text/plain": [
       "               A          B          C          D\n",
       "count  12.000000  12.000000  12.000000  12.000000\n",
       "mean    7.583333   6.666667   6.916667   5.583333\n",
       "std     0.996205   0.887625   0.996205   1.676486\n",
       "min     6.000000   5.000000   5.000000   4.000000\n",
       "25%     7.000000   6.000000   6.000000   4.000000\n",
       "50%     8.000000   7.000000   7.000000   5.000000\n",
       "75%     8.000000   7.000000   8.000000   6.250000\n",
       "max     9.000000   8.000000   8.000000   9.000000"
      ]
     },
     "execution_count": 50,
     "metadata": {},
     "output_type": "execute_result"
    }
   ],
   "source": [
    "ex2_2.describe()"
   ]
  },
  {
   "cell_type": "code",
   "execution_count": null,
   "id": "865d51ac-e89e-4def-968d-d4850a1ff7e2",
   "metadata": {},
   "outputs": [],
   "source": []
  }
 ],
 "metadata": {
  "kernelspec": {
   "display_name": "Python 3 (ipykernel)",
   "language": "python",
   "name": "python3"
  },
  "language_info": {
   "codemirror_mode": {
    "name": "ipython",
    "version": 3
   },
   "file_extension": ".py",
   "mimetype": "text/x-python",
   "name": "python",
   "nbconvert_exporter": "python",
   "pygments_lexer": "ipython3",
   "version": "3.11.5"
  }
 },
 "nbformat": 4,
 "nbformat_minor": 5
}
